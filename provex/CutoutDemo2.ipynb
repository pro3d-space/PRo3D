{
 "cells": [
  {
   "cell_type": "code",
   "execution_count": 53,
   "metadata": {},
   "outputs": [],
   "source": [
    "import requests\n",
    "import json\n",
    "\n",
    "def getAnnotation():\n",
    "    url = \"http://localhost:4321/api/queries/findAnnotation\"\n",
    "    response = requests.get(url)\n",
    "    id = json.loads(response.text)[0]\n",
    "    print(id)\n",
    "    return id\n",
    "\n",
    "def writeCutoutGeometryForAnnotationToFile(id, mappedLayers, height, filename):\n",
    "    url = \"http://localhost:4321/api/queries/queryAnnotationAsObj\"\n",
    "    payload = {\"annotationId\": id, \"queryAttributes\": [mappedLayers], \"distanceToPlane\": height}\n",
    "    print(payload)\n",
    "    response = requests.post(url, json=payload)\n",
    "    response.raise_for_status() \n",
    "    file = open(filename, \"w\")\n",
    "    file.write(response.text)\n",
    "    file.close()\n",
    "\n",
    "def getAnnotationGeometry(id, mappedLayers, height):\n",
    "    url = \"http://localhost:4321/api/queries/queryAnnotationAsJson\"\n",
    "    payload = {\"annotationId\": id, \"queryAttributes\": mappedLayers, \"distanceToPlane\": height}\n",
    "    response = requests.get(url, json=payload)\n",
    "    if response.status_code == 200:\n",
    "        return json.loads(response.content)\n",
    "    else:\n",
    "        raise Exception(\"PRo3D request failed.\")"
   ]
  },
  {
   "cell_type": "code",
   "execution_count": 54,
   "metadata": {},
   "outputs": [
    {
     "name": "stdout",
     "output_type": "stream",
     "text": [
      "f26c7440-4592-4d5f-abcf-3f720b145590\n"
     ]
    }
   ],
   "source": [
    "id = getAnnotation() # just use the first annotation for simplicity of the demo.\n",
    "\n",
    "# instead of Ele.aara any other \n",
    "# attribute available in the reconstruction can be used\n",
    "geometry = getAnnotationGeometry(id, [\"Ele.aara\", \"Lat.aara\", \"Lon.aara\"], 100.0) ## all vertices within 100.0 of the surface (in sky direction)\n"
   ]
  },
  {
   "cell_type": "code",
   "execution_count": 55,
   "metadata": {},
   "outputs": [],
   "source": [
    "length = len(geometry[\"filteredPatches\"]) # number of surfaces intersected. will be 1 in most cases\n",
    "filteredPatches = geometry[\"filteredPatches\"]\n",
    "patch = filteredPatches[0]\n",
    "# geometry\n",
    "vertices = patch[\"verticesWorldSpace\"]\n",
    "# how to build triangles in geometry array\n",
    "indices = patch[\"indices\"]"
   ]
  },
  {
   "cell_type": "code",
   "execution_count": 57,
   "metadata": {},
   "outputs": [
    {
     "name": "stdout",
     "output_type": "stream",
     "text": [
      "xyz: [-84.59299553369532, -24.77811020895996, 11.430795891594238], lat/lon: 143.0,139.0)\n"
     ]
    }
   ],
   "source": [
    "latitudes = patch[\"Lat.aara\"]\n",
    "longitudes = patch[\"Lon.aara\"]\n",
    "print('xyz: ' + str(vertices[0]) + ', lat/lon: ' + str(latitudes[0]) + ',' + str(longitudes[0]) + ')')"
   ]
  },
  {
   "cell_type": "code",
   "execution_count": 52,
   "metadata": {},
   "outputs": [
    {
     "name": "stdout",
     "output_type": "stream",
     "text": [
      "{'annotationId': 'f26c7440-4592-4d5f-abcf-3f720b145590', 'queryAttributes': [['Ele.aara']], 'distanceToPlane': 100.0}\n"
     ]
    },
    {
     "ename": "HTTPError",
     "evalue": "400 Client Error: Bad Request for url: http://localhost:4321/api/queries/queryAnnotationAsObj",
     "output_type": "error",
     "traceback": [
      "\u001b[1;31m---------------------------------------------------------------------------\u001b[0m",
      "\u001b[1;31mHTTPError\u001b[0m                                 Traceback (most recent call last)",
      "\u001b[1;32m<ipython-input-52-9ead9a05fda8>\u001b[0m in \u001b[0;36m<module>\u001b[1;34m\u001b[0m\n\u001b[0;32m      1\u001b[0m \u001b[1;31m# now also write the cutout geometry to a object file.\u001b[0m\u001b[1;33m\u001b[0m\u001b[1;33m\u001b[0m\u001b[1;33m\u001b[0m\u001b[0m\n\u001b[1;32m----> 2\u001b[1;33m \u001b[0mwriteCutoutGeometryForAnnotationToFile\u001b[0m\u001b[1;33m(\u001b[0m\u001b[0mid\u001b[0m\u001b[1;33m,\u001b[0m \u001b[1;33m[\u001b[0m\u001b[1;34m\"Ele.aara\"\u001b[0m\u001b[1;33m]\u001b[0m\u001b[1;33m,\u001b[0m \u001b[1;34m\"./result.obj\"\u001b[0m\u001b[1;33m)\u001b[0m\u001b[1;33m\u001b[0m\u001b[1;33m\u001b[0m\u001b[0m\n\u001b[0m",
      "\u001b[1;32m<ipython-input-21-1c0b65ca8092>\u001b[0m in \u001b[0;36mwriteCutoutGeometryForAnnotationToFile\u001b[1;34m(id, mappedLayers, filename)\u001b[0m\n\u001b[0;32m     14\u001b[0m     \u001b[0mprint\u001b[0m\u001b[1;33m(\u001b[0m\u001b[0mpayload\u001b[0m\u001b[1;33m)\u001b[0m\u001b[1;33m\u001b[0m\u001b[1;33m\u001b[0m\u001b[0m\n\u001b[0;32m     15\u001b[0m     \u001b[0mresponse\u001b[0m \u001b[1;33m=\u001b[0m \u001b[0mrequests\u001b[0m\u001b[1;33m.\u001b[0m\u001b[0mpost\u001b[0m\u001b[1;33m(\u001b[0m\u001b[0murl\u001b[0m\u001b[1;33m,\u001b[0m \u001b[0mjson\u001b[0m\u001b[1;33m=\u001b[0m\u001b[0mpayload\u001b[0m\u001b[1;33m)\u001b[0m\u001b[1;33m\u001b[0m\u001b[1;33m\u001b[0m\u001b[0m\n\u001b[1;32m---> 16\u001b[1;33m     \u001b[0mresponse\u001b[0m\u001b[1;33m.\u001b[0m\u001b[0mraise_for_status\u001b[0m\u001b[1;33m(\u001b[0m\u001b[1;33m)\u001b[0m\u001b[1;33m\u001b[0m\u001b[1;33m\u001b[0m\u001b[0m\n\u001b[0m\u001b[0;32m     17\u001b[0m     \u001b[0mfile\u001b[0m \u001b[1;33m=\u001b[0m \u001b[0mopen\u001b[0m\u001b[1;33m(\u001b[0m\u001b[0mfilename\u001b[0m\u001b[1;33m,\u001b[0m \u001b[1;34m\"w\"\u001b[0m\u001b[1;33m)\u001b[0m\u001b[1;33m\u001b[0m\u001b[1;33m\u001b[0m\u001b[0m\n\u001b[0;32m     18\u001b[0m     \u001b[0mfile\u001b[0m\u001b[1;33m.\u001b[0m\u001b[0mwrite\u001b[0m\u001b[1;33m(\u001b[0m\u001b[0mresponse\u001b[0m\u001b[1;33m.\u001b[0m\u001b[0mtext\u001b[0m\u001b[1;33m)\u001b[0m\u001b[1;33m\u001b[0m\u001b[1;33m\u001b[0m\u001b[0m\n",
      "\u001b[1;32mc:\\Users\\hs\\AppData\\Local\\Programs\\Python\\Python37\\lib\\site-packages\\requests\\models.py\u001b[0m in \u001b[0;36mraise_for_status\u001b[1;34m(self)\u001b[0m\n\u001b[0;32m   1019\u001b[0m \u001b[1;33m\u001b[0m\u001b[0m\n\u001b[0;32m   1020\u001b[0m         \u001b[1;32mif\u001b[0m \u001b[0mhttp_error_msg\u001b[0m\u001b[1;33m:\u001b[0m\u001b[1;33m\u001b[0m\u001b[1;33m\u001b[0m\u001b[0m\n\u001b[1;32m-> 1021\u001b[1;33m             \u001b[1;32mraise\u001b[0m \u001b[0mHTTPError\u001b[0m\u001b[1;33m(\u001b[0m\u001b[0mhttp_error_msg\u001b[0m\u001b[1;33m,\u001b[0m \u001b[0mresponse\u001b[0m\u001b[1;33m=\u001b[0m\u001b[0mself\u001b[0m\u001b[1;33m)\u001b[0m\u001b[1;33m\u001b[0m\u001b[1;33m\u001b[0m\u001b[0m\n\u001b[0m\u001b[0;32m   1022\u001b[0m \u001b[1;33m\u001b[0m\u001b[0m\n\u001b[0;32m   1023\u001b[0m     \u001b[1;32mdef\u001b[0m \u001b[0mclose\u001b[0m\u001b[1;33m(\u001b[0m\u001b[0mself\u001b[0m\u001b[1;33m)\u001b[0m\u001b[1;33m:\u001b[0m\u001b[1;33m\u001b[0m\u001b[1;33m\u001b[0m\u001b[0m\n",
      "\u001b[1;31mHTTPError\u001b[0m: 400 Client Error: Bad Request for url: http://localhost:4321/api/queries/queryAnnotationAsObj"
     ]
    }
   ],
   "source": [
    "# now also write the cutout geometry to a object file.\n",
    "writeCutoutGeometryForAnnotationToFile(id, [\"Ele.aara\"], \"./result.obj\")"
   ]
  }
 ],
 "metadata": {
  "kernelspec": {
   "display_name": "tutorial",
   "language": "python",
   "name": "python3"
  },
  "language_info": {
   "codemirror_mode": {
    "name": "ipython",
    "version": 3
   },
   "file_extension": ".py",
   "mimetype": "text/x-python",
   "name": "python",
   "nbconvert_exporter": "python",
   "pygments_lexer": "ipython3",
   "version": "3.9.16"
  },
  "orig_nbformat": 4
 },
 "nbformat": 4,
 "nbformat_minor": 2
}
