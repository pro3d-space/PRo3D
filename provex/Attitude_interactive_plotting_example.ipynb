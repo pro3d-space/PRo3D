{
 "cells": [
  {
   "attachments": {},
   "cell_type": "markdown",
   "metadata": {
    "id": "jXqhwQpvMsf3"
   },
   "source": [
    "# Install Attitude package"
   ]
  },
  {
   "cell_type": "code",
   "execution_count": null,
   "metadata": {
    "id": "82P3l9ZhMmCP"
   },
   "outputs": [],
   "source": [
    "!pip install Attitude\n",
    "!pip install palettable\n",
    "!pip install pandas"
   ]
  },
  {
   "attachments": {},
   "cell_type": "markdown",
   "metadata": {
    "id": "y_2hSdNuM9xN"
   },
   "source": [
    "# Interactive plotting example\n",
    "\n",
    "Source: https://davenquinn.com/projects/attitude/example-notebooks/Plotting-Interactive.html"
   ]
  },
  {
   "cell_type": "code",
   "execution_count": null,
   "metadata": {
    "id": "FEGkiKYmM9X-"
   },
   "outputs": [],
   "source": [
    "import json\n",
    "import numpy as np\n",
    "import palettable as P\n",
    "#from attitude.stereonet import plane_errors, scale_errors, normal_errors # namespaces have changed since the example\n",
    "from attitude import Orientation, ReconstructedPlane, create_groups\n",
    "from attitude.display import plot_interactive, init_notebook_mode"
   ]
  },
  {
   "cell_type": "code",
   "execution_count": null,
   "metadata": {
    "id": "c1Gl4ClaNPzj"
   },
   "outputs": [],
   "source": [
    "# load json data\n",
    "plane_fitting_str = '[{\"axes\":[[0.084812411634183,0.255113422693246,-0.963184300326024],[-0.00887637658262376,0.966822353160196,0.255295411961405],[0.99635739811152,-0.0131026329994243,0.0842630182044594]],\"center\":[-2486973.26094232,2288926.0968093,-275793.917856326],\"centered_array\":[[-0.0113378493115306,-0.0533589185215533,0.135520671959966],[-0.00356046762317419,-0.013877522200346,0.102903006947599],[-0.00718883844092488,0.0019633830524981,0.0324651462724432],[-0.00458744261413813,0.00210336083546281,-0.010170242167078],[0.00948386918753386,0.0236353459767997,-0.0988193363300525],[0.0171907297335565,0.0395343499258161,-0.161899246857502]],\"dip\":41.7217983198228,\"disabled\":false,\"hyperbolic_axes\":[0.0107653732549085,0.000197079749647264,0.000139625405375659],\"max_angular_error\":40.0875723268823,\"min_angular_error\":6.49715457657977,\"name\":\"\",\"rake\":1.76025331862212,\"strike\":2.0356798570984,\"uid\":\"4e25b7d1-34c7-4a1f-adaa-9ebaa1057deb\"},{\"axes\":[[0.763945219793486,0.477269856449246,0.434282379655908],[-0.560039011765,0.156083191481165,0.813630347663075],[0.320537059411177,-0.864784089505566,0.386528746773206]],\"center\":[-2486973.09323267,2288926.24423025,-275793.952227771],\"centered_array\":[[-0.123932582791895,-0.0793958883732557,-0.078258766036015],[-0.0800763834267855,-0.0555212791077793,-0.0549504421651363],[-0.0305509148165584,-0.00500994734466076,0.00818955065915361],[0.0272506545297802,0.0164438197389245,0.0182539464440197],[0.0789898452349007,0.0432791686616838,0.0462746664998122],[0.128319379873574,0.08020412735641,0.0604910446563736]],\"dip\":31.7668188714572,\"disabled\":false,\"hyperbolic_axes\":[0.012531075838112,0.000162661829407633,0.000107347531501284],\"max_angular_error\":39.0893286098664,\"min_angular_error\":5.28796942148659,\"name\":\"\",\"rake\":1.29384129486283,\"strike\":142.780810434147,\"uid\":\"768b1788-3d56-458f-a910-4c79bfe5f0b9\"},{\"axes\":[[0.341340214494416,0.483350847132077,-0.80613821181334],[-0.738760708495057,0.668218431810615,0.0878449940090126],[0.581136363991092,0.565558207406864,0.585170437122337]],\"center\":[-2486972.81826875,2288926.42189184,-275793.734584459],\"centered_array\":[[0.112993132323027,0.116696665529162,-0.22202755935723],[0.012331779114902,0.0693813371472061,-0.0652192916022614],[-0.00492093851789832,0.0153939132578671,-0.0272135228151456],[-0.0262393211014569,-0.0301967579871416,0.0396944281528704],[-0.0403787968680263,-0.0665931068360806,0.115225342044141],[-0.0537858554162085,-0.104682050645351,0.159540603403002]],\"dip\":84.7188179767002,\"disabled\":false,\"hyperbolic_axes\":[0.0198525668901167,0.000684722339176989,0.000482004296146409],\"max_angular_error\":39.9970556777545,\"min_angular_error\":8.85648553616974,\"name\":\"\",\"rake\":1.71274985860003,\"strike\":35.5966693417842,\"uid\":\"9efe08ad-b797-4078-99dc-a4a957d4968c\"},{\"axes\":[[0.55341333047498,0.507605167569866,-0.660356479114848],[-0.301853591558183,-0.616705467116087,-0.727020478454736],[-0.776284802708397,0.601673799234683,-0.188070583554385]],\"center\":[-2486974.51938053,2288924.75687418,-275794.878023717],\"centered_array\":[[-1.02789098769426,-1.02570986980572,1.08324557647575],[-0.559738472104073,-0.508835869841278,0.51919215824455],[-0.113847292494029,-0.000509616918861866,0.421680597879458],[0.303081346675754,0.313617237377912,-0.207995177304838],[0.541538808029145,0.524946488905698,-0.499623326293658],[0.856856596656144,0.696491628885269,-1.31649982905947]],\"dip\":7.82175039021375,\"disabled\":false,\"hyperbolic_axes\":[1.45674486569205,0.0162798197857358,0.00272681432632833],\"max_angular_error\":22.2574929513521,\"min_angular_error\":2.47735308441272,\"name\":\"\",\"rake\":1.56126226815835,\"strike\":52.4233218471984,\"uid\":\"53b665d1-6988-43eb-a20b-ec7af5ee2e16\"}]'\n",
    "plane_fitting_json = json.loads(plane_fitting_str)\n",
    "\n",
    "absolute_coords_str = '{\"geometries\":[{\"coordinates\":[[[-4.66479734701104,137.374583729058,-4983.6217628493],[-4.66479786739952,137.374583147329,-4983.59816546328],[-4.66479903512475,137.374582991399,-4983.57908415616],[-4.66479975558027,137.37458295979,-4983.57743006115],[-4.66480124257136,137.374582529691,-4983.56600668343],[-4.66480229779888,137.374582242912,-4983.55579735079]]],\"type\":\"Polygon\"},{\"coordinates\":[[[-4.66480146850477,137.374581582349,-4983.56007148408],[-4.66480109812966,137.374580781111,-4983.57801503019],[-4.66480003795803,137.374579582554,-4983.58537684351],[-4.66479990695469,137.374578651423,-4983.61410424783],[-4.66479946244031,137.374577722762,-4983.63621371957],[-4.66479923855861,137.374576695916,-4983.64862331552]]],\"type\":\"Polygon\"},{\"coordinates\":[[[-4.6648003942478,137.374571044249,-4983.68920962981],[-4.6647976959427,137.374572789964,-4983.66007723207],[-4.66479708873982,137.374573661398,-4983.68695497082],[-4.66479598291694,137.374574474773,-4983.70753415082],[-4.66479473059088,137.374575091056,-4983.7278735267],[-4.66479400623414,137.374575720044,-4983.74735381029]]],\"type\":\"Polygon\"}],\"type\":\"GeometryCollection\"}'\n",
    "absolute_coords_json = json.loads(absolute_coords_str)"
   ]
  },
  {
   "cell_type": "code",
   "execution_count": null,
   "metadata": {
    "id": "_P_Xopu0Owdz"
   },
   "outputs": [],
   "source": [
    "# read the coorinates from the geometries\n",
    "# you access a field in a json with json_object[\"name_of_field\"]\n",
    "orientations = [] \n",
    "for geometry in absolute_coords_json[\"geometries\"]: # iterate over all geometries\n",
    "\n",
    "    coords = geometry[\"coordinates\"][0] # we index 0, because they are in an extra list\n",
    "    orientation = Orientation(np.asarray(coords)) # Orientation() wants an array of coordinates, because they are calculating some mean somewhere\n",
    "\n",
    "    orientations.append(orientation) # add the orientation to the orientations list\n",
    "\n",
    "# the original example groups some orientations, so we group also some to see how this works\n",
    "hashes = [ o.hash for o in orientations ] # fancy way for iterating a list and returning values into a new list\n",
    "groups = (\n",
    "    [hashes[0],hashes[1]], # group first and second orientation\n",
    "    [hashes[2],hashes[2]] # group third orientation with itself (there are only three orientations in our data)\n",
    ")\n",
    "\n",
    "groupedOrientations = create_groups(orientations, *groups, same_plane=False) # create the groups\n",
    "collection = [ go.to_mapping(color='#ff0000', type='remote') for go in groupedOrientations] # to_mapping converts the orientations to a suitable format for the final plotting, but I don't know what this type is for"
   ]
  },
  {
   "cell_type": "code",
   "execution_count": null,
   "metadata": {
    "id": "OM5xo_kMOyDx"
   },
   "outputs": [],
   "source": [
    "# reconstruct the planes with angular errors\n",
    "for plane in plane_fitting_json: # iterate over all elements in the json\n",
    "\n",
    "    strike = plane[\"strike\"]\n",
    "    dip = plane[\"dip\"]\n",
    "    rake = plane[\"rake\"]\n",
    "\n",
    "    min_error = plane[\"min_angular_error\"]\n",
    "    max_error = plane[\"max_angular_error\"]\n",
    "\n",
    "    # in the original example there is a constant for both errors,\n",
    "    # I asume you put the angular errors in here\n",
    "    rec_plane = ReconstructedPlane(strike, dip, rake, min_error, max_error) \n",
    "    print(plane[\"center\"])\n",
    "    orientation = rec_plane.to_mapping(center=[-4.6647995909,137.3745829334,-4983.583041094], color='#444') # still don't know what this type is for\n",
    "\n",
    "    collection.append(orientation) # add the orientation to our collection list from above"
   ]
  },
  {
   "cell_type": "code",
   "execution_count": null,
   "metadata": {},
   "outputs": [],
   "source": [
    "print(collection[0])"
   ]
  },
  {
   "cell_type": "code",
   "execution_count": null,
   "metadata": {},
   "outputs": [],
   "source": [
    "import inspect\n",
    "cmap = P.mycarta.CubeYF_7\n",
    "\n",
    "\n",
    "heights = np.array([o[\"center\"][2] for o in collection])\n",
    "rng = [heights.min(),heights.max()]\n",
    "print(rng)\n",
    "\n",
    "for o in collection:\n",
    "    ix = np.interp(o['center'][2], rng, [0,6])\n",
    "    o['color'] = cmap.hex_colors[6-int(ix)]"
   ]
  },
  {
   "cell_type": "code",
   "execution_count": null,
   "metadata": {
    "id": "cm2RGEXLO-PE"
   },
   "outputs": [],
   "source": [
    "# plot everything in an interactive plot\n",
    "init_notebook_mode()\n",
    "plot_interactive(collection)"
   ]
  },
  {
   "cell_type": "code",
   "execution_count": null,
   "metadata": {
    "id": "s7NB0JzrQtJc"
   },
   "outputs": [],
   "source": []
  }
 ],
 "metadata": {
  "colab": {
   "private_outputs": true,
   "provenance": []
  },
  "gpuClass": "standard",
  "kernelspec": {
   "display_name": "Python 3",
   "name": "python3"
  },
  "language_info": {
   "codemirror_mode": {
    "name": "ipython",
    "version": 3
   },
   "file_extension": ".py",
   "mimetype": "text/x-python",
   "name": "python",
   "nbconvert_exporter": "python",
   "pygments_lexer": "ipython3",
   "version": "3.7.8"
  }
 },
 "nbformat": 4,
 "nbformat_minor": 0
}
