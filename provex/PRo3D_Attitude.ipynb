{
  "cells": [
    {
      "attachments": {},
      "cell_type": "markdown",
      "metadata": {
        "id": "y_2hSdNuM9xN"
      },
      "source": [
        "# Example: Dip and Strike analysis using notebooks.\n",
        "\n",
        "Thanks to Daven Quinn, https://davenquinn.com/\n",
        "\n",
        "\n",
        "The example is based on: https://davenquinn.com/projects/attitude/example-notebooks/Plotting-Interactive.html"
      ]
    },
    {
      "cell_type": "code",
      "execution_count": 2,
      "metadata": {
        "id": "82P3l9ZhMmCP"
      },
      "outputs": [
        {
          "name": "stdout",
          "output_type": "stream",
          "text": [
            "Requirement already satisfied: Attitude in c:\\users\\hs\\appdata\\local\\programs\\python\\python37\\lib\\site-packages (0.5.0)\n",
            "Requirement already satisfied: jinja2 in c:\\users\\hs\\appdata\\local\\programs\\python\\python37\\lib\\site-packages (from Attitude) (2.11.3)\n",
            "Requirement already satisfied: pytest-mpl in c:\\users\\hs\\appdata\\local\\programs\\python\\python37\\lib\\site-packages (from Attitude) (0.16.1)\n",
            "Requirement already satisfied: pytest in c:\\users\\hs\\appdata\\local\\programs\\python\\python37\\lib\\site-packages (from Attitude) (7.3.1)\n",
            "Requirement already satisfied: scipy in c:\\users\\hs\\appdata\\local\\programs\\python\\python37\\lib\\site-packages (from Attitude) (1.6.0)\n",
            "Requirement already satisfied: IPython in c:\\users\\hs\\appdata\\local\\programs\\python\\python37\\lib\\site-packages (from Attitude) (7.20.0)\n",
            "Requirement already satisfied: subdivide>=1 in c:\\users\\hs\\appdata\\local\\programs\\python\\python37\\lib\\site-packages (from Attitude) (1.0.2)\n",
            "Requirement already satisfied: mplstereonet in c:\\users\\hs\\appdata\\local\\programs\\python\\python37\\lib\\site-packages (from Attitude) (0.6.2)\n",
            "Requirement already satisfied: matplotlib in c:\\users\\hs\\appdata\\local\\programs\\python\\python37\\lib\\site-packages (from Attitude) (3.3.4)\n",
            "Requirement already satisfied: numpy in c:\\users\\hs\\appdata\\local\\programs\\python\\python37\\lib\\site-packages (from Attitude) (1.20.0)\n",
            "Requirement already satisfied: colour in c:\\users\\hs\\appdata\\local\\programs\\python\\python37\\lib\\site-packages (from Attitude) (0.1.5)\n",
            "Requirement already satisfied: MarkupSafe>=0.23 in c:\\users\\hs\\appdata\\local\\programs\\python\\python37\\lib\\site-packages (from jinja2->Attitude) (1.1.1)\n",
            "Requirement already satisfied: packaging in c:\\users\\hs\\appdata\\local\\programs\\python\\python37\\lib\\site-packages (from pytest-mpl->Attitude) (20.9)\n",
            "Requirement already satisfied: Pillow in c:\\users\\hs\\appdata\\local\\programs\\python\\python37\\lib\\site-packages (from pytest-mpl->Attitude) (8.1.0)\n",
            "Requirement already satisfied: importlib-resources; python_version < \"3.8\" in c:\\users\\hs\\appdata\\local\\programs\\python\\python37\\lib\\site-packages (from pytest-mpl->Attitude) (5.12.0)\n",
            "Requirement already satisfied: tomli>=1.0.0; python_version < \"3.11\" in c:\\users\\hs\\appdata\\local\\programs\\python\\python37\\lib\\site-packages (from pytest->Attitude) (2.0.1)\n",
            "Requirement already satisfied: pluggy<2.0,>=0.12 in c:\\users\\hs\\appdata\\local\\programs\\python\\python37\\lib\\site-packages (from pytest->Attitude) (1.0.0)\n",
            "Requirement already satisfied: importlib-metadata>=0.12; python_version < \"3.8\" in c:\\users\\hs\\appdata\\local\\programs\\python\\python37\\lib\\site-packages (from pytest->Attitude) (3.4.0)\n",
            "Requirement already satisfied: exceptiongroup>=1.0.0rc8; python_version < \"3.11\" in c:\\users\\hs\\appdata\\local\\programs\\python\\python37\\lib\\site-packages (from pytest->Attitude) (1.1.1)\n",
            "Requirement already satisfied: iniconfig in c:\\users\\hs\\appdata\\local\\programs\\python\\python37\\lib\\site-packages (from pytest->Attitude) (2.0.0)\n",
            "Requirement already satisfied: colorama; sys_platform == \"win32\" in c:\\users\\hs\\appdata\\local\\programs\\python\\python37\\lib\\site-packages (from pytest->Attitude) (0.4.4)\n",
            "Requirement already satisfied: setuptools>=18.5 in c:\\users\\hs\\appdata\\local\\programs\\python\\python37\\lib\\site-packages (from IPython->Attitude) (47.1.0)\n",
            "Requirement already satisfied: backcall in c:\\users\\hs\\appdata\\local\\programs\\python\\python37\\lib\\site-packages (from IPython->Attitude) (0.2.0)\n",
            "Requirement already satisfied: traitlets>=4.2 in c:\\users\\hs\\appdata\\local\\programs\\python\\python37\\lib\\site-packages (from IPython->Attitude) (5.0.5)\n",
            "Requirement already satisfied: decorator in c:\\users\\hs\\appdata\\local\\programs\\python\\python37\\lib\\site-packages (from IPython->Attitude) (4.4.2)\n",
            "Requirement already satisfied: pickleshare in c:\\users\\hs\\appdata\\local\\programs\\python\\python37\\lib\\site-packages (from IPython->Attitude) (0.7.5)\n",
            "Requirement already satisfied: jedi>=0.16 in c:\\users\\hs\\appdata\\local\\programs\\python\\python37\\lib\\site-packages (from IPython->Attitude) (0.18.0)\n",
            "Requirement already satisfied: prompt-toolkit!=3.0.0,!=3.0.1,<3.1.0,>=2.0.0 in c:\\users\\hs\\appdata\\local\\programs\\python\\python37\\lib\\site-packages (from IPython->Attitude) (3.0.14)\n",
            "Requirement already satisfied: pygments in c:\\users\\hs\\appdata\\local\\programs\\python\\python37\\lib\\site-packages (from IPython->Attitude) (2.7.4)\n",
            "Requirement already satisfied: shapely in c:\\users\\hs\\appdata\\local\\programs\\python\\python37\\lib\\site-packages (from subdivide>=1->Attitude) (1.7.1)\n",
            "Requirement already satisfied: pyparsing!=2.0.4,!=2.1.2,!=2.1.6,>=2.0.3 in c:\\users\\hs\\appdata\\local\\programs\\python\\python37\\lib\\site-packages (from matplotlib->Attitude) (2.4.7)\n",
            "Requirement already satisfied: cycler>=0.10 in c:\\users\\hs\\appdata\\local\\programs\\python\\python37\\lib\\site-packages (from matplotlib->Attitude) (0.10.0)\n",
            "Requirement already satisfied: python-dateutil>=2.1 in c:\\users\\hs\\appdata\\local\\programs\\python\\python37\\lib\\site-packages (from matplotlib->Attitude) (2.8.1)\n",
            "Requirement already satisfied: kiwisolver>=1.0.1 in c:\\users\\hs\\appdata\\local\\programs\\python\\python37\\lib\\site-packages (from matplotlib->Attitude) (1.3.1)\n",
            "Requirement already satisfied: zipp>=3.1.0; python_version < \"3.10\" in c:\\users\\hs\\appdata\\local\\programs\\python\\python37\\lib\\site-packages (from importlib-resources; python_version < \"3.8\"->pytest-mpl->Attitude) (3.4.0)\n",
            "Requirement already satisfied: typing-extensions>=3.6.4; python_version < \"3.8\" in c:\\users\\hs\\appdata\\local\\programs\\python\\python37\\lib\\site-packages (from importlib-metadata>=0.12; python_version < \"3.8\"->pytest->Attitude) (3.7.4.3)\n",
            "Requirement already satisfied: ipython-genutils in c:\\users\\hs\\appdata\\local\\programs\\python\\python37\\lib\\site-packages (from traitlets>=4.2->IPython->Attitude) (0.2.0)\n",
            "Requirement already satisfied: parso<0.9.0,>=0.8.0 in c:\\users\\hs\\appdata\\local\\programs\\python\\python37\\lib\\site-packages (from jedi>=0.16->IPython->Attitude) (0.8.1)\n",
            "Requirement already satisfied: wcwidth in c:\\users\\hs\\appdata\\local\\programs\\python\\python37\\lib\\site-packages (from prompt-toolkit!=3.0.0,!=3.0.1,<3.1.0,>=2.0.0->IPython->Attitude) (0.2.5)\n",
            "Requirement already satisfied: six in c:\\users\\hs\\appdata\\local\\programs\\python\\python37\\lib\\site-packages (from cycler>=0.10->matplotlib->Attitude) (1.15.0)\n"
          ]
        },
        {
          "name": "stderr",
          "output_type": "stream",
          "text": [
            "WARNING: You are using pip version 20.1.1; however, version 23.1.2 is available.\n",
            "You should consider upgrading via the 'c:\\users\\hs\\appdata\\local\\programs\\python\\python37\\python.exe -m pip install --upgrade pip' command.\n"
          ]
        },
        {
          "name": "stdout",
          "output_type": "stream",
          "text": [
            "Requirement already satisfied: palettable in c:\\users\\hs\\appdata\\local\\programs\\python\\python37\\lib\\site-packages (3.3.3)"
          ]
        },
        {
          "name": "stderr",
          "output_type": "stream",
          "text": [
            "WARNING: You are using pip version 20.1.1; however, version 23.1.2 is available.\n",
            "You should consider upgrading via the 'c:\\users\\hs\\appdata\\local\\programs\\python\\python37\\python.exe -m pip install --upgrade pip' command.\n"
          ]
        },
        {
          "name": "stdout",
          "output_type": "stream",
          "text": [
            "\n",
            "Requirement already satisfied: pandas in c:\\users\\hs\\appdata\\roaming\\python\\python37\\site-packages (1.3.5)\n",
            "Requirement already satisfied: python-dateutil>=2.7.3 in c:\\users\\hs\\appdata\\local\\programs\\python\\python37\\lib\\site-packages (from pandas) (2.8.1)\n",
            "Requirement already satisfied: pytz>=2017.3 in c:\\users\\hs\\appdata\\local\\programs\\python\\python37\\lib\\site-packages (from pandas) (2021.1)\n",
            "Requirement already satisfied: numpy>=1.17.3; platform_machine != \"aarch64\" and platform_machine != \"arm64\" and python_version < \"3.10\" in c:\\users\\hs\\appdata\\local\\programs\\python\\python37\\lib\\site-packages (from pandas) (1.20.0)\n",
            "Requirement already satisfied: six>=1.5 in c:\\users\\hs\\appdata\\local\\programs\\python\\python37\\lib\\site-packages (from python-dateutil>=2.7.3->pandas) (1.15.0)\n"
          ]
        },
        {
          "name": "stderr",
          "output_type": "stream",
          "text": [
            "WARNING: You are using pip version 20.1.1; however, version 23.1.2 is available.\n",
            "You should consider upgrading via the 'c:\\users\\hs\\appdata\\local\\programs\\python\\python37\\python.exe -m pip install --upgrade pip' command.\n"
          ]
        }
      ],
      "source": [
        "!pip install Attitude\n",
        "!pip install palettable\n",
        "!pip install pandas"
      ]
    },
    {
      "cell_type": "code",
      "execution_count": 1,
      "metadata": {
        "id": "FEGkiKYmM9X-"
      },
      "outputs": [],
      "source": [
        "import json\n",
        "import requests\n",
        "import numpy as np\n",
        "import palettable as P\n",
        "from attitude import Orientation, ReconstructedPlane, create_groups\n",
        "from attitude.display import plot_interactive, init_notebook_mode\n",
        "\n",
        "\n",
        "def queryPRo3D():\n",
        "    annotationsAsString = requests.get('http://localhost:4321/api/integration/geojson_latlon').content\n",
        "    annotations = json.loads(annotationsAsString)\n",
        "\n",
        "    orientations = []\n",
        "    for annotation in annotations[\"features\"]:\n",
        "        coords = annotation[\"geometry\"][\"coordinates\"]\n",
        "        if len(coords) > 2:\n",
        "            orientation = Orientation(np.array(coords)) \n",
        "\n",
        "            orientations.append(orientation) \n",
        "\n",
        "    return orientations\n",
        "\n",
        "    "
      ]
    },
    {
      "attachments": {},
      "cell_type": "markdown",
      "metadata": {},
      "source": [
        "## Get Data from PRo3D/PROVEX"
      ]
    },
    {
      "cell_type": "code",
      "execution_count": 2,
      "metadata": {},
      "outputs": [],
      "source": [
        "orientations = queryPRo3D()"
      ]
    },
    {
      "attachments": {},
      "cell_type": "markdown",
      "metadata": {
        "id": "_P_Xopu0Owdz"
      },
      "source": [
        "### Process data (depending on use case)"
      ]
    },
    {
      "cell_type": "code",
      "execution_count": 3,
      "metadata": {},
      "outputs": [],
      "source": [
        "# the original example groups some orientations, so we group also some to see how this works\n",
        "hashes = [ o.hash for o in orientations ] # fancy way for iterating a list and returning values into a new list\n",
        "groups = (\n",
        "    [hashes[0],hashes[1]], # group first and second orientation\n",
        "    [hashes[2],hashes[2]] # group third orientation with itself (there are only three orientations in our data)\n",
        ")\n",
        "\n",
        "groupedOrientations = create_groups(orientations, *groups, same_plane=False) # create the groups\n",
        "collection = [ go.to_mapping(color='#ff0000', type='remote') for go in groupedOrientations] # to_mapping converts the orientations to a suitable format for the final plotting, but I don't know what this type is for\n",
        "\n",
        "import inspect\n",
        "cmap = P.mycarta.CubeYF_7\n",
        "\n",
        "heights = np.array([o[\"center\"][2] for o in collection])\n",
        "rng = [heights.min(),heights.max()]\n",
        "\n",
        "for o in collection:\n",
        "    ix = np.interp(o['center'][2], rng, [0,6])\n",
        "    o['color'] = cmap.hex_colors[6-int(ix)]"
      ]
    },
    {
      "attachments": {},
      "cell_type": "markdown",
      "metadata": {
        "id": "cm2RGEXLO-PE"
      },
      "source": [
        "## Visualize using attitude"
      ]
    },
    {
      "cell_type": "code",
      "execution_count": 5,
      "metadata": {},
      "outputs": [
        {
          "data": {
            "text/html": [
              "\n",
              "<div id='a__Ac124bb8b-5d89-49fd-b22c-d281c34538a7'></div>\n",
              "<script type='text/javascript'>\n",
              "  var data=JSON.parse('[{\"uid\": \"a01ee74a\", \"axes\": [[-3.929107252565172e-05, 7.333740441239911e-05, 0.9999999965389185], [-0.9940482514982644, -0.10894068444817105, -3.106779501878265e-05], [0.10894068179268702, -0.9940482492784689, 7.718131495937364e-05]], \"hyperbolic_axes\": [0.7197852101442144, 1.0433745724989728e-09, 1.1640957887891174e-09], \"max_angular_error\": 46.56746579348842, \"min_angular_error\": 0.0023041753799819794, \"strike\": 83.745745852797, \"dip\": 89.99557783639116, \"rake\": 0.0017800533528958017, \"disabled\": false, \"color\": \"#7B0290\", \"type\": \"remote\", \"centered_array\": [[8.686547412839474e-05, 8.928296183041695e-05, 1.1660331150519596], [9.084768767753104e-05, -5.419299981657133e-06, -0.44542180880080195], [7.983617246409835e-05, -7.111234168899472e-05, -1.0963100276890145], [8.00163179448532e-06, -8.396120671916307e-05, -0.7944872590376235], [-5.156001403161525e-05, -2.0007754229389718e-05, -0.14193120643653856], [-9.535186515741145e-05, 3.621908475359703e-05, 0.5028214713570378], [-0.00011863908687193003, 5.499855603563475e-05, 0.8092957155572549]], \"center\": [-5.500668091866761, -2.048032852883149, -2017.478463552945], \"member_of\": \"bb481184\"}, {\"uid\": \"022a83ca\", \"axes\": [[5.9625673882738e-05, -7.72180988919402e-05, 0.9999999952410721], [-0.8753507694390936, 0.4834883891338296, 8.952743418289e-05], [-0.4834883937460814, -0.8753507706114962, -3.87646012630638e-05]], \"hyperbolic_axes\": [0.09837375942558974, 7.344110994750732e-09, 9.828652195586102e-12], \"max_angular_error\": 2.0951077960929325, \"min_angular_error\": 0.0005727036903851161, \"strike\": 298.9134834924565, \"dip\": 89.99777895195257, \"rake\": 0.005129544115696047, \"disabled\": false, \"color\": \"#5A89EE\", \"type\": \"remote\", \"centered_array\": [[-8.995842829495615e-05, 4.325041495567561e-05, 0.1566076111023449], [-4.930542763403878e-05, 3.632449139212568e-05, -0.2243744668448926], [4.554398292722084e-05, -1.143997511210415e-05, -0.2962455405927358], [9.371987300177409e-05, -6.813493123525305e-05, 0.36401239633573823]], \"center\": [-5.499655773831083, -2.0479338023446125, -2021.387568994293], \"member_of\": \"bb481184\"}, {\"uid\": \"268d578f\", \"axes\": [[-0.00018262215450627847, 0.0002651607873100925, 0.9999999481694514], [0.6396820367626689, -0.7686395703042574, 0.0003206332019906055], [-0.7686396154845991, -0.6396820621623241, 2.9247978128310592e-05]], \"hyperbolic_axes\": [0.03522176984459235, 1.1112769987572946e-10, 2.3301612315420658e-12], \"max_angular_error\": 8.239411862375881, \"min_angular_error\": 0.0004660258756267599, \"strike\": 140.231884219597, \"dip\": 89.99832421429372, \"rake\": 0.01837092956225893, \"disabled\": false, \"color\": \"#39BAB1\", \"type\": \"remote\", \"centered_array\": [[5.513203059148708e-05, -7.874072035418678e-05, -0.2578490816249541], [2.3856210963124624e-05, -3.411088606997126e-05, -0.14917047495623592], [4.185041642124077e-06, -9.24537425728289e-06, -0.07617163261284077], [-1.5871092829300437e-05, 2.4966431106943077e-05, 0.11423831512092875], [-2.8372146318567104e-05, 4.301498949610405e-05, 0.19962171259999195], [-3.893004404975642e-05, 5.41155600783938e-05, 0.16933116147265537]], \"center\": [-5.496016942970363, -2.048371600858301, -2022.2343509019374], \"member_of\": \"49f38d43\"}, {\"uid\": \"e9559386\", \"axes\": [[0.0005128434171902852, 3.645752299608063e-05, 0.9999998678312307], [-0.9888584219443968, -0.1488581829640864, 0.0005125566005998172], [0.14885818197622755, -0.9888585541094745, -4.0289610570454215e-05]], \"hyperbolic_axes\": [0.10368573579830372, 1.0943809425523836e-08, 2.9076062718299616e-11], \"max_angular_error\": 2.9506791893449416, \"min_angular_error\": 0.0009594689479381675, \"strike\": 261.43923765440024, \"dip\": 89.99769157535546, \"rake\": 0.029367331275911377, \"disabled\": false, \"color\": \"#D1EB5B\", \"type\": \"remote\", \"centered_array\": [[-0.00041720270665379644, -4.881194281480816e-05, -0.4141431819111858], [-0.0003238681141795041, -3.700222833558087e-05, -0.41500443152199296], [-0.00024391239050913782, -2.40007676772791e-05, -0.3071326639430936], [-0.00017288793879988162, -1.1827055065971592e-05, -0.29004144916598307], [-0.00016280157266468365, -9.811314074514854e-06, -0.28453202595369476], [-7.795521878239953e-05, -1.423106432696386e-06, -0.1812153609116649], [-5.281199103546186e-05, -1.25213598289875e-06, -0.06129361009311651], [-1.3537437801858232e-06, 5.470401440277328e-06, 0.04486201095551223], [3.564317564741515e-05, 9.175307532416355e-06, -0.10806585341606478], [6.161486560873897e-05, 6.490063230835119e-06, 0.08107704015810668], [0.0001006650906116846, 5.516535499072717e-06, 0.11077931579143296], [0.00012422388426358566, 4.577162633356835e-06, 0.2506666897161267], [0.00015055485786419354, 1.9168778075506765e-05, 0.056416808157564446], [0.0001525482360555941, 1.9788028903899857e-05, 0.0525913291037341], [0.00016520835815470036, 2.2994679468091306e-05, 0.044574444749059694], [0.00018598920417467468, 2.404802033462161e-05, 0.06345840236144795], [0.0002248742052151087, 1.51394060257104e-05, 0.46069839458868955], [0.000251471798788927, 1.760167246622757e-06, 0.8963041413330757]], \"center\": [-5.498188576044331, -2.047699794425172, -2030.508836404183]}, {\"uid\": \"bb481184\", \"axes\": [[-3.2964112400553876e-05, 6.370750084283561e-05, 0.9999999974273608], [-0.9790973234371418, 0.20339230367009706, -4.523268969477967e-05], [-0.20339230602850375, -0.9790973224093328, 5.5671196798723344e-05]], \"hyperbolic_axes\": [0.461354686005366, 1.2940841010670045e-09, 4.532030824042285e-09], \"max_angular_error\": 61.8816872429915, \"min_angular_error\": 0.005678734839977617, \"strike\": 101.7354023577758, \"dip\": 89.99681027538135, \"rake\": 0.0025916421031688427, \"disabled\": false, \"color\": \"#7D48EA\", \"type\": \"remote\", \"centered_array\": null, \"members\": [\"a01ee74a\", \"022a83ca\"], \"center\": [-5.500299976217423, -2.0479968345054993, -2018.899956440708]}, {\"uid\": \"49f38d43\", \"axes\": [[-0.00018262215450627847, 0.0002651607873100925, 0.9999999481694513], [0.6396820367617936, -0.7686395703049854, 0.00032063320199116063], [-0.7686396154853274, -0.6396820621614487, 2.924797812819957e-05]], \"hyperbolic_axes\": [0.03202019266460648, 1.2798277322562108e-10, 9.585619452511087e-13], \"max_angular_error\": 4.946251707029729, \"min_angular_error\": 0.0003134878792329825, \"strike\": 140.23188421966225, \"dip\": 89.99832421429373, \"rake\": 0.01837092956225893, \"disabled\": false, \"color\": \"#39BAB1\", \"type\": \"remote\", \"centered_array\": null, \"members\": [\"268d578f\", \"268d578f\"], \"center\": [-5.496016942970363, -2.0483716008583013, -2022.2343509019377]}]');\n",
              "  attitudeUI(document.querySelector('#a__Ac124bb8b-5d89-49fd-b22c-d281c34538a7'),data);\n",
              "</script>\n"
            ],
            "text/plain": [
              "<IPython.core.display.HTML object>"
            ]
          },
          "metadata": {},
          "output_type": "display_data"
        }
      ],
      "source": [
        "# plot everything in an interactive plot\n",
        "init_notebook_mode()\n",
        "plot_interactive(collection)"
      ]
    }
  ],
  "metadata": {
    "colab": {
      "private_outputs": true,
      "provenance": []
    },
    "gpuClass": "standard",
    "kernelspec": {
      "display_name": "Python 3",
      "name": "python3"
    },
    "language_info": {
      "codemirror_mode": {
        "name": "ipython",
        "version": 3
      },
      "file_extension": ".py",
      "mimetype": "text/x-python",
      "name": "python",
      "nbconvert_exporter": "python",
      "pygments_lexer": "ipython3",
      "version": "3.7.8"
    }
  },
  "nbformat": 4,
  "nbformat_minor": 0
}
