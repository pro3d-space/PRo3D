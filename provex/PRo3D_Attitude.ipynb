{
 "cells": [
  {
   "attachments": {},
   "cell_type": "markdown",
   "metadata": {
    "id": "y_2hSdNuM9xN"
   },
   "source": [
    "# Example: Dip and Strike analysis using notebooks.\n",
    "\n",
    "Thanks to Daven Quinn, https://davenquinn.com/\n",
    "\n",
    "\n",
    "The example is based on: https://davenquinn.com/projects/attitude/example-notebooks/Plotting-Interactive.html"
   ]
  },
  {
   "cell_type": "code",
   "execution_count": null,
   "metadata": {
    "id": "82P3l9ZhMmCP"
   },
   "outputs": [],
   "source": [
    "!pip install Attitude\n",
    "!pip install palettable\n",
    "!pip install pandas"
   ]
  },
  {
   "cell_type": "code",
   "execution_count": null,
   "metadata": {
    "id": "FEGkiKYmM9X-"
   },
   "outputs": [],
   "source": [
    "import json\n",
    "import requests\n",
    "import numpy as np\n",
    "import palettable as P\n",
    "from attitude import Orientation, ReconstructedPlane, create_groups\n",
    "from attitude.display import plot_interactive, init_notebook_mode\n",
    "\n",
    "\n",
    "def queryPRo3D():\n",
    "    annotationsAsString = requests.get('http://localhost:4321/api/integration/geojson_latlon').content\n",
    "    annotations = json.loads(annotationsAsString)\n",
    "\n",
    "    orientations = []\n",
    "    for annotation in annotations[\"features\"]:\n",
    "        coords = annotation[\"geometry\"][\"coordinates\"]\n",
    "        if len(coords) > 2:\n",
    "            orientation = Orientation(np.array(coords)) \n",
    "\n",
    "            orientations.append(orientation) \n",
    "\n",
    "    return orientations\n",
    "\n",
    "    "
   ]
  },
  {
   "attachments": {},
   "cell_type": "markdown",
   "metadata": {},
   "source": [
    "## Get Data from PRo3D/PROVEX"
   ]
  },
  {
   "cell_type": "code",
   "execution_count": null,
   "metadata": {},
   "outputs": [],
   "source": [
    "orientations = queryPRo3D()"
   ]
  },
  {
   "attachments": {},
   "cell_type": "markdown",
   "metadata": {
    "id": "_P_Xopu0Owdz"
   },
   "source": [
    "### Process data (depending on use case)"
   ]
  },
  {
   "cell_type": "code",
   "execution_count": null,
   "metadata": {},
   "outputs": [],
   "source": [
    "# the original example groups some orientations, so we group also some to see how this works\n",
    "hashes = [ o.hash for o in orientations ] # fancy way for iterating a list and returning values into a new list\n",
    "groups = (\n",
    "    [hashes[0],hashes[1]], # group first and second orientation\n",
    "    [hashes[2],hashes[2]] # group third orientation with itself (there are only three orientations in our data)\n",
    ")\n",
    "\n",
    "groupedOrientations = create_groups(orientations, *groups, same_plane=False) # create the groups\n",
    "collection = [ go.to_mapping(color='#ff0000', type='remote') for go in groupedOrientations] # to_mapping converts the orientations to a suitable format for the final plotting, but I don't know what this type is for\n",
    "\n",
    "import inspect\n",
    "cmap = P.mycarta.CubeYF_7\n",
    "\n",
    "heights = np.array([o[\"center\"][2] for o in collection])\n",
    "rng = [heights.min(),heights.max()]\n",
    "\n",
    "for o in collection:\n",
    "    ix = np.interp(o['center'][2], rng, [0,6])\n",
    "    o['color'] = cmap.hex_colors[6-int(ix)]"
   ]
  },
  {
   "attachments": {},
   "cell_type": "markdown",
   "metadata": {
    "id": "cm2RGEXLO-PE"
   },
   "source": [
    "## Visualize using attitude"
   ]
  },
  {
   "cell_type": "code",
   "execution_count": null,
   "metadata": {},
   "outputs": [],
   "source": [
    "# plot everything in an interactive plot\n",
    "init_notebook_mode()\n",
    "plot_interactive(collection)"
   ]
  }
 ],
 "metadata": {
  "colab": {
   "private_outputs": true,
   "provenance": []
  },
  "gpuClass": "standard",
  "kernelspec": {
   "display_name": "Python 3",
   "name": "python3"
  },
  "language_info": {
   "codemirror_mode": {
    "name": "ipython",
    "version": 3
   },
   "file_extension": ".py",
   "mimetype": "text/x-python",
   "name": "python",
   "nbconvert_exporter": "python",
   "pygments_lexer": "ipython3",
   "version": "3.7.8"
  }
 },
 "nbformat": 4,
 "nbformat_minor": 0
}
