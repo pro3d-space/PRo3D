{
 "cells": [
  {
   "cell_type": "code",
   "execution_count": 10,
   "metadata": {},
   "outputs": [],
   "source": [
    "import requests\n",
    "import json\n",
    "\n",
    "def getAnnotation():\n",
    "    url = \"http://localhost:4321/api/queries/findAnnotation\"\n",
    "    response = requests.get(url)\n",
    "    id = json.loads(response.text)[0]\n",
    "    print(id)\n",
    "    return id\n",
    "\n",
    "def writeCutoutGeometryForAnnotationToFile(id, mappedLayers, filename):\n",
    "    url = \"http://localhost:4321/api/queries/queryAnnotationAsObj\"\n",
    "    payload = {\"annotationId\": id, \"queryAttributes\": [mappedLayers], \"distanceToPlane\": 100.0}\n",
    "    print(payload)\n",
    "    response = requests.post(url, json=payload)\n",
    "    response.raise_for_status() \n",
    "    file = open(filename, \"w\")\n",
    "    file.write(response.text)\n",
    "    file.close()\n",
    "\n",
    "def getAnnotationGeometry(id, mappedLayers):\n",
    "    url = \"http://localhost:4321/api/queries/queryAnnotationAsJson\"\n",
    "    payload = {\"annotationId\": id, \"queryAttributes\": [mappedLayers], \"distanceToPlane\": 100.0}\n",
    "    response = requests.get(url, json=payload)\n",
    "    print(response.text)"
   ]
  },
  {
   "cell_type": "code",
   "execution_count": 9,
   "metadata": {},
   "outputs": [
    {
     "name": "stdout",
     "output_type": "stream",
     "text": [
      "0fd002ac-153c-4c54-adfd-2df5d3267f57\n",
      "could not parse command\n",
      "None\n",
      "{'annotationId': None, 'queryAttributes': ['Ele.aara'], 'distanceToPlane': 100.0}\n"
     ]
    },
    {
     "ename": "HTTPError",
     "evalue": "400 Client Error: Bad Request for url: http://localhost:4321/api/queries/queryAnnotationAsObj",
     "output_type": "error",
     "traceback": [
      "\u001b[1;31m---------------------------------------------------------------------------\u001b[0m",
      "\u001b[1;31mHTTPError\u001b[0m                                 Traceback (most recent call last)",
      "Cell \u001b[1;32mIn[9], line 10\u001b[0m\n\u001b[0;32m      5\u001b[0m \u001b[39mprint\u001b[39m(getAnnotationGeometry(\u001b[39mid\u001b[39m, \u001b[39m\"\u001b[39m\u001b[39mEle.aara\u001b[39m\u001b[39m\"\u001b[39m)) \n\u001b[0;32m      9\u001b[0m \u001b[39m# now also write the cutout geometry to a object file.\u001b[39;00m\n\u001b[1;32m---> 10\u001b[0m writeCutoutGeometryForAnnotationToFile(\u001b[39mid\u001b[39;49m, \u001b[39m\"\u001b[39;49m\u001b[39mEle.aara\u001b[39;49m\u001b[39m\"\u001b[39;49m, \u001b[39m\"\u001b[39;49m\u001b[39m./result.obj\u001b[39;49m\u001b[39m\"\u001b[39;49m)\n",
      "Cell \u001b[1;32mIn[7], line 16\u001b[0m, in \u001b[0;36mwriteCutoutGeometryForAnnotationToFile\u001b[1;34m(id, mappedLayers, filename)\u001b[0m\n\u001b[0;32m     14\u001b[0m \u001b[39mprint\u001b[39m(payload)\n\u001b[0;32m     15\u001b[0m response \u001b[39m=\u001b[39m requests\u001b[39m.\u001b[39mpost(url, json\u001b[39m=\u001b[39mpayload)\n\u001b[1;32m---> 16\u001b[0m response\u001b[39m.\u001b[39;49mraise_for_status() \n\u001b[0;32m     17\u001b[0m file \u001b[39m=\u001b[39m \u001b[39mopen\u001b[39m(filename, \u001b[39m\"\u001b[39m\u001b[39mw\u001b[39m\u001b[39m\"\u001b[39m)\n\u001b[0;32m     18\u001b[0m file\u001b[39m.\u001b[39mwrite(response\u001b[39m.\u001b[39mtext)\n",
      "File \u001b[1;32mc:\\Users\\hs\\anaconda3\\envs\\tutorial\\lib\\site-packages\\requests\\models.py:1021\u001b[0m, in \u001b[0;36mResponse.raise_for_status\u001b[1;34m(self)\u001b[0m\n\u001b[0;32m   1016\u001b[0m     http_error_msg \u001b[39m=\u001b[39m (\n\u001b[0;32m   1017\u001b[0m         \u001b[39mf\u001b[39m\u001b[39m\"\u001b[39m\u001b[39m{\u001b[39;00m\u001b[39mself\u001b[39m\u001b[39m.\u001b[39mstatus_code\u001b[39m}\u001b[39;00m\u001b[39m Server Error: \u001b[39m\u001b[39m{\u001b[39;00mreason\u001b[39m}\u001b[39;00m\u001b[39m for url: \u001b[39m\u001b[39m{\u001b[39;00m\u001b[39mself\u001b[39m\u001b[39m.\u001b[39murl\u001b[39m}\u001b[39;00m\u001b[39m\"\u001b[39m\n\u001b[0;32m   1018\u001b[0m     )\n\u001b[0;32m   1020\u001b[0m \u001b[39mif\u001b[39;00m http_error_msg:\n\u001b[1;32m-> 1021\u001b[0m     \u001b[39mraise\u001b[39;00m HTTPError(http_error_msg, response\u001b[39m=\u001b[39m\u001b[39mself\u001b[39m)\n",
      "\u001b[1;31mHTTPError\u001b[0m: 400 Client Error: Bad Request for url: http://localhost:4321/api/queries/queryAnnotationAsObj"
     ]
    }
   ],
   "source": [
    "id = getAnnotation() # just use the first annotation for simplicity of the demo.\n",
    "\n",
    "# instead of Ele.aara any other \n",
    "# attribute available in the reconstruction can be used\n",
    "print(getAnnotationGeometry(id, \"Ele.aara\")) \n",
    "\n",
    "\n",
    "\n",
    "# now also write the cutout geometry to a object file.\n",
    "writeCutoutGeometryForAnnotationToFile(id, \"Ele.aara\", \"./result.obj\")"
   ]
  }
 ],
 "metadata": {
  "kernelspec": {
   "display_name": "tutorial",
   "language": "python",
   "name": "python3"
  },
  "language_info": {
   "codemirror_mode": {
    "name": "ipython",
    "version": 3
   },
   "file_extension": ".py",
   "mimetype": "text/x-python",
   "name": "python",
   "nbconvert_exporter": "python",
   "pygments_lexer": "ipython3",
   "version": "3.9.16"
  },
  "orig_nbformat": 4
 },
 "nbformat": 4,
 "nbformat_minor": 2
}
