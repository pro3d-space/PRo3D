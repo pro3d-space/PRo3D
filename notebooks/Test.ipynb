{
  "cells": [
    {
      "cell_type": "code",
      "execution_count": 1,
      "metadata": {
        "dotnet_interactive": {
          "language": "fsharp"
        }
      },
      "source": [
        "let a = 21"
      ],
      "outputs": []
    },
    {
      "cell_type": "code",
      "execution_count": 1,
      "metadata": {
        "dotnet_interactive": {
          "language": "fsharp"
        }
      },
      "source": [
        "let showPro3d() = \n",
        "    Html.ToHtmlContent \"<iframe src='http://localhost:54322/?page=render' width='800' height='400'></frame>\"\n",
        ""
      ],
      "outputs": []
    },
    {
      "cell_type": "code",
      "execution_count": 1,
      "metadata": {
        "dotnet_interactive": {
          "language": "fsharp"
        }
      },
      "source": [
        "showPro3d()"
      ],
      "outputs": [
        {
          "output_type": "execute_result",
          "data": {
            "text/html": "<iframe src='http://localhost:54322/?page=render' width='800' height='400'></frame>"
          },
          "execution_count": 1,
          "metadata": {}
        }
      ]
    },
    {
      "cell_type": "code",
      "execution_count": 1,
      "metadata": {
        "dotnet_interactive": {
          "language": "fsharp"
        }
      },
      "source": [
        "open System.Net\n",
        "\n",
        "let doRequest (endpoint : string) (command : string) = \n",
        "    let r = WebRequest.Create(endpoint + \"/\" + command)\n",
        "    let response = r.GetResponse() |> unbox<HttpWebResponse>\n",
        "    use reader = new StreamReader(response.GetResponseStream())\n",
        "    printfn \"PRo3D said: %A\" (reader.ReadToEnd())\n",
        "\n",
        "let resetCamera = doRequest \"http://localhost:54322\" \"resetCamera\""
      ],
      "outputs": [
        {
          "output_type": "execute_result",
          "data": {
            "text/plain": "PRo3D said: "
          },
          "execution_count": 1,
          "metadata": {}
        },
        {
          "output_type": "execute_result",
          "data": {
            "text/plain": "\"\""
          },
          "execution_count": 1,
          "metadata": {}
        },
        {
          "output_type": "execute_result",
          "data": {
            "text/plain": "\r\n"
          },
          "execution_count": 1,
          "metadata": {}
        }
      ]
    },
    {
      "cell_type": "code",
      "execution_count": 1,
      "metadata": {
        "dotnet_interactive": {
          "language": "fsharp"
        }
      },
      "source": [
        "#r \"nuget: Aardvark.Base\"\n",
        "#r \"nuget: Thoth.Json.Net\"\n",
        "\n",
        "#r \"../bin/Debug/netstandard2.0/PRo3D.Remoting.dll\"\n",
        ""
      ],
      "outputs": [
        {
          "output_type": "execute_result",
          "data": {
            "text/plain": "Installed package Thoth.Json.Net version 5.0.0"
          },
          "execution_count": 1,
          "metadata": {}
        },
        {
          "output_type": "execute_result",
          "data": {
            "text/plain": "Installed package Aardvark.Base version 5.1.5"
          },
          "execution_count": 1,
          "metadata": {}
        }
      ]
    },
    {
      "cell_type": "code",
      "execution_count": 1,
      "metadata": {
        "dotnet_interactive": {
          "language": "fsharp"
        }
      },
      "source": [
        "open Aardvark.Base // V3d\n",
        "open PRo3D // shared remoting lib code\n",
        "\n",
        "let setCameraCommand = Remoting.Camera.toJson { location = V3d.III * 3.0; forward = V3d.OIO; up = V3d.OOI }"
      ],
      "outputs": []
    },
    {
      "cell_type": "code",
      "execution_count": 1,
      "metadata": {
        "dotnet_interactive": {
          "language": "fsharp"
        }
      },
      "source": [
        "let postRequest (endpoint : string) (command : string) (data : string) = \n",
        "    let r = WebRequest.Create(endpoint + \"/\" + command)\n",
        "    r.Method <- \"POST\"\n",
        "    let b = System.Text.Encoding.UTF8.GetBytes data\n",
        "    r.ContentType <- \"application/x-www-form-urlencoded\"\n",
        "    r.ContentLength <- int64 b.Length\n",
        "    use s = r.GetRequestStream()\n",
        "    s.Write(b,0,b.Length)\n",
        "    s.Close()\n",
        "    let response = r.GetResponse() |> unbox<HttpWebResponse>\n",
        "    use reader = new StreamReader(response.GetResponseStream())\n",
        "    printfn \"PRo3D said: %A\" (reader.ReadToEnd())\n",
        "\n",
        "let setCamera c = c |> Remoting.Camera.toJson |> postRequest \"http://localhost:54322\" \"resetCamera\"\n",
        "\n",
        "setCamera  { location = V3d.III * 3.0; forward = V3d.OIO; up = V3d.OOI }"
      ],
      "outputs": []
    }
  ],
  "metadata": {
    "kernelspec": {
      "display_name": ".NET (C#)",
      "language": "C#",
      "name": ".net-csharp"
    },
    "language_info": {
      "file_extension": ".cs",
      "mimetype": "text/x-csharp",
      "name": "C#",
      "pygments_lexer": "csharp",
      "version": "8.0"
    }
  },
  "nbformat": 4,
  "nbformat_minor": 4
}