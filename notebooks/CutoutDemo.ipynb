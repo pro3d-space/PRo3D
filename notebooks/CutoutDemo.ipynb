{
 "cells": [
  {
   "cell_type": "code",
   "execution_count": 1,
   "metadata": {},
   "outputs": [],
   "source": [
    "import requests\n",
    "import json\n",
    "\n",
    "def getAnnotation():\n",
    "    url = \"http://localhost:4321/api/queries/findAnnotation\"\n",
    "    response = requests.get(url)\n",
    "    id = json.loads(response.text)[0]\n",
    "    print(id)\n",
    "    return id\n",
    "\n",
    "def writeCutoutGeometryForAnnotationToFile(id, mappedLayers, filename):\n",
    "    url = \"http://localhost:4321/api/queries/queryAnnotationAsObj\"\n",
    "    payload = {\"annotationId\": id, \"queryAttributes\": [mappedLayers], \"distanceToPlane\": 100.0}\n",
    "    print(payload)\n",
    "    response = requests.post(url, json=payload)\n",
    "    response.raise_for_status() \n",
    "    file = open(filename, \"w\")\n",
    "    file.write(response.text)\n",
    "    file.close()\n",
    "\n",
    "def getAnnotationGeometry(id, mappedLayers):\n",
    "    url = \"http://localhost:4321/api/queries/queryAnnotationAsJson\"\n",
    "    payload = {\"annotationId\": id, \"queryAttributes\": [mappedLayers], \"distanceToPlane\": 100.0}\n",
    "    response = requests.get(url, json=payload)\n",
    "    print(response.text)"
   ]
  },
  {
   "cell_type": "code",
   "execution_count": null,
   "metadata": {},
   "outputs": [],
   "source": [
    "id = getAnnotation() # just use the first annotation for simplicity of the demo.\n",
    "\n",
    "# instead of Ele.aara any other \n",
    "# attribute available in the reconstruction can be used\n",
    "print(getAnnotationGeometry(id, \"Ele.aara\")) \n",
    "\n",
    "\n",
    "\n",
    "# now also write the cutout geometry to a object file.\n",
    "writeCutoutGeometryForAnnotationToFile(id, \"Ele.aara\", \"./result.obj\")"
   ]
  }
 ],
 "metadata": {
  "kernelspec": {
   "display_name": "Python 3.7.8 64-bit",
   "language": "python",
   "name": "python3"
  },
  "language_info": {
   "codemirror_mode": {
    "name": "ipython",
    "version": 3
   },
   "file_extension": ".py",
   "mimetype": "text/x-python",
   "name": "python",
   "nbconvert_exporter": "python",
   "pygments_lexer": "ipython3",
   "version": "3.7.8"
  },
  "orig_nbformat": 4,
  "vscode": {
   "interpreter": {
    "hash": "dbdd5831ed242dda80320f1ab53ab2298e2824e3e1aa330f1aee0d9af416c919"
   }
  }
 },
 "nbformat": 4,
 "nbformat_minor": 2
}
