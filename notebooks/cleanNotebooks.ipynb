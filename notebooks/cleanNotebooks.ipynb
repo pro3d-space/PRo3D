{
 "cells": [
  {
   "cell_type": "code",
   "execution_count": null,
   "id": "install-nbformat",
   "metadata": {},
   "outputs": [],
   "source": [
    "%pip install nbformat"
   ]
  },
  {
   "cell_type": "code",
   "execution_count": null,
   "id": "clear-notebooks",
   "metadata": {},
   "outputs": [],
   "source": [
    "import os\n",
    "import nbformat\n",
    "\n",
    "def clear_notebook_outputs(directory):\n",
    "    for root, _, files in os.walk(directory):\n",
    "        for file in files:\n",
    "            if file.endswith(\".ipynb\"):\n",
    "                notebook_path = os.path.join(root, file)\n",
    "                with open(notebook_path, \"r\", encoding=\"utf-8\") as f:\n",
    "                    notebook = nbformat.read(f, as_version=4)\n",
    "\n",
    "                for cell in notebook.cells:\n",
    "                    if cell.cell_type == \"code\":\n",
    "                        cell.outputs = []\n",
    "                        cell.execution_count = None\n",
    " \n",
    "                with open(notebook_path, \"w\", encoding=\"utf-8\") as f:\n",
    "                    nbformat.write(notebook, f)\n",
    "                print(f\"Cleared outputs from: {notebook_path}\")\n",
    "\n",
    "directories = [\"../src/Tests\", \"../notebooks\", \"../provex\"]\n",
    "for directory in directories:\n",
    "    clear_notebook_outputs(directory)\n",
    "\n",
    "print(\"All notebook outputs cleared.\")"
   ]
  }
 ],
 "metadata": {
  "kernelspec": {
   "display_name": "Python 3",
   "language": "python",
   "name": "python3"
  },
  "language_info": {
   "codemirror_mode": {
    "name": "ipython",
    "version": 3
   },
   "file_extension": ".py",
   "mimetype": "text/x-python",
   "name": "python",
   "nbconvert_exporter": "python",
   "pygments_lexer": "ipython3",
   "version": "3.12.6"
  }
 },
 "nbformat": 4,
 "nbformat_minor": 5
}
