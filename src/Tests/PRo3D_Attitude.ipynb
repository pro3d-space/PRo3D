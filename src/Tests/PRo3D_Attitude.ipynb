{
  "cells": [
    {
      "cell_type": "markdown",
      "metadata": {
        "id": "jXqhwQpvMsf3"
      },
      "source": [
        "# Install Attitude package"
      ]
    },
    {
      "cell_type": "code",
      "execution_count": 8,
      "metadata": {
        "id": "82P3l9ZhMmCP"
      },
      "outputs": [
        {
          "name": "stdout",
          "output_type": "stream",
          "text": [
            "Requirement already satisfied: Attitude in c:\\users\\hs\\appdata\\local\\programs\\python\\python37\\lib\\site-packages (0.5.0)\n",
            "Requirement already satisfied: IPython in c:\\users\\hs\\appdata\\local\\programs\\python\\python37\\lib\\site-packages (from Attitude) (7.20.0)\n",
            "Requirement already satisfied: pytest in c:\\users\\hs\\appdata\\local\\programs\\python\\python37\\lib\\site-packages (from Attitude) (7.3.1)\n",
            "Requirement already satisfied: jinja2 in c:\\users\\hs\\appdata\\local\\programs\\python\\python37\\lib\\site-packages (from Attitude) (2.11.3)\n",
            "Requirement already satisfied: pytest-mpl in c:\\users\\hs\\appdata\\local\\programs\\python\\python37\\lib\\site-packages (from Attitude) (0.16.1)\n",
            "Requirement already satisfied: colour in c:\\users\\hs\\appdata\\local\\programs\\python\\python37\\lib\\site-packages (from Attitude) (0.1.5)\n",
            "Requirement already satisfied: scipy in c:\\users\\hs\\appdata\\local\\programs\\python\\python37\\lib\\site-packages (from Attitude) (1.6.0)\n",
            "Requirement already satisfied: numpy in c:\\users\\hs\\appdata\\local\\programs\\python\\python37\\lib\\site-packages (from Attitude) (1.20.0)\n",
            "Requirement already satisfied: subdivide>=1 in c:\\users\\hs\\appdata\\local\\programs\\python\\python37\\lib\\site-packages (from Attitude) (1.0.2)\n",
            "Requirement already satisfied: mplstereonet in c:\\users\\hs\\appdata\\local\\programs\\python\\python37\\lib\\site-packages (from Attitude) (0.6.2)\n",
            "Requirement already satisfied: matplotlib in c:\\users\\hs\\appdata\\local\\programs\\python\\python37\\lib\\site-packages (from Attitude) (3.3.4)\n",
            "Requirement already satisfied: traitlets>=4.2 in c:\\users\\hs\\appdata\\local\\programs\\python\\python37\\lib\\site-packages (from IPython->Attitude) (5.0.5)\n",
            "Requirement already satisfied: decorator in c:\\users\\hs\\appdata\\local\\programs\\python\\python37\\lib\\site-packages (from IPython->Attitude) (4.4.2)\n",
            "Requirement already satisfied: backcall in c:\\users\\hs\\appdata\\local\\programs\\python\\python37\\lib\\site-packages (from IPython->Attitude) (0.2.0)\n",
            "Requirement already satisfied: jedi>=0.16 in c:\\users\\hs\\appdata\\local\\programs\\python\\python37\\lib\\site-packages (from IPython->Attitude) (0.18.0)\n",
            "Requirement already satisfied: colorama; sys_platform == \"win32\" in c:\\users\\hs\\appdata\\local\\programs\\python\\python37\\lib\\site-packages (from IPython->Attitude) (0.4.4)\n",
            "Requirement already satisfied: prompt-toolkit!=3.0.0,!=3.0.1,<3.1.0,>=2.0.0 in c:\\users\\hs\\appdata\\local\\programs\\python\\python37\\lib\\site-packages (from IPython->Attitude) (3.0.14)\n",
            "Requirement already satisfied: pickleshare in c:\\users\\hs\\appdata\\local\\programs\\python\\python37\\lib\\site-packages (from IPython->Attitude) (0.7.5)\n",
            "Requirement already satisfied: pygments in c:\\users\\hs\\appdata\\local\\programs\\python\\python37\\lib\\site-packages (from IPython->Attitude) (2.7.4)\n",
            "Requirement already satisfied: setuptools>=18.5 in c:\\users\\hs\\appdata\\local\\programs\\python\\python37\\lib\\site-packages (from IPython->Attitude) (47.1.0)\n",
            "Requirement already satisfied: exceptiongroup>=1.0.0rc8; python_version < \"3.11\" in c:\\users\\hs\\appdata\\local\\programs\\python\\python37\\lib\\site-packages (from pytest->Attitude) (1.1.1)\n",
            "Requirement already satisfied: tomli>=1.0.0; python_version < \"3.11\" in c:\\users\\hs\\appdata\\local\\programs\\python\\python37\\lib\\site-packages (from pytest->Attitude) (2.0.1)\n",
            "Requirement already satisfied: importlib-metadata>=0.12; python_version < \"3.8\" in c:\\users\\hs\\appdata\\local\\programs\\python\\python37\\lib\\site-packages (from pytest->Attitude) (3.4.0)\n",
            "Requirement already satisfied: iniconfig in c:\\users\\hs\\appdata\\local\\programs\\python\\python37\\lib\\site-packages (from pytest->Attitude) (2.0.0)\n",
            "Requirement already satisfied: packaging in c:\\users\\hs\\appdata\\local\\programs\\python\\python37\\lib\\site-packages (from pytest->Attitude) (20.9)\n",
            "Requirement already satisfied: pluggy<2.0,>=0.12 in c:\\users\\hs\\appdata\\local\\programs\\python\\python37\\lib\\site-packages (from pytest->Attitude) (1.0.0)\n",
            "Requirement already satisfied: MarkupSafe>=0.23 in c:\\users\\hs\\appdata\\local\\programs\\python\\python37\\lib\\site-packages (from jinja2->Attitude) (1.1.1)\n",
            "Requirement already satisfied: importlib-resources; python_version < \"3.8\" in c:\\users\\hs\\appdata\\local\\programs\\python\\python37\\lib\\site-packages (from pytest-mpl->Attitude) (5.12.0)\n",
            "Requirement already satisfied: Pillow in c:\\users\\hs\\appdata\\local\\programs\\python\\python37\\lib\\site-packages (from pytest-mpl->Attitude) (8.1.0)"
          ]
        },
        {
          "name": "stderr",
          "output_type": "stream",
          "text": [
            "WARNING: You are using pip version 20.1.1; however, version 23.1.2 is available.\n",
            "You should consider upgrading via the 'c:\\users\\hs\\appdata\\local\\programs\\python\\python37\\python.exe -m pip install --upgrade pip' command.\n"
          ]
        },
        {
          "name": "stdout",
          "output_type": "stream",
          "text": [
            "\n",
            "Requirement already satisfied: shapely in c:\\users\\hs\\appdata\\local\\programs\\python\\python37\\lib\\site-packages (from subdivide>=1->Attitude) (1.7.1)\n",
            "Requirement already satisfied: kiwisolver>=1.0.1 in c:\\users\\hs\\appdata\\local\\programs\\python\\python37\\lib\\site-packages (from matplotlib->Attitude) (1.3.1)\n",
            "Requirement already satisfied: pyparsing!=2.0.4,!=2.1.2,!=2.1.6,>=2.0.3 in c:\\users\\hs\\appdata\\local\\programs\\python\\python37\\lib\\site-packages (from matplotlib->Attitude) (2.4.7)\n",
            "Requirement already satisfied: cycler>=0.10 in c:\\users\\hs\\appdata\\local\\programs\\python\\python37\\lib\\site-packages (from matplotlib->Attitude) (0.10.0)\n",
            "Requirement already satisfied: python-dateutil>=2.1 in c:\\users\\hs\\appdata\\local\\programs\\python\\python37\\lib\\site-packages (from matplotlib->Attitude) (2.8.1)\n",
            "Requirement already satisfied: ipython-genutils in c:\\users\\hs\\appdata\\local\\programs\\python\\python37\\lib\\site-packages (from traitlets>=4.2->IPython->Attitude) (0.2.0)\n",
            "Requirement already satisfied: parso<0.9.0,>=0.8.0 in c:\\users\\hs\\appdata\\local\\programs\\python\\python37\\lib\\site-packages (from jedi>=0.16->IPython->Attitude) (0.8.1)\n",
            "Requirement already satisfied: wcwidth in c:\\users\\hs\\appdata\\local\\programs\\python\\python37\\lib\\site-packages (from prompt-toolkit!=3.0.0,!=3.0.1,<3.1.0,>=2.0.0->IPython->Attitude) (0.2.5)\n",
            "Requirement already satisfied: typing-extensions>=3.6.4; python_version < \"3.8\" in c:\\users\\hs\\appdata\\local\\programs\\python\\python37\\lib\\site-packages (from importlib-metadata>=0.12; python_version < \"3.8\"->pytest->Attitude) (3.7.4.3)\n",
            "Requirement already satisfied: zipp>=0.5 in c:\\users\\hs\\appdata\\local\\programs\\python\\python37\\lib\\site-packages (from importlib-metadata>=0.12; python_version < \"3.8\"->pytest->Attitude) (3.4.0)\n",
            "Requirement already satisfied: six in c:\\users\\hs\\appdata\\local\\programs\\python\\python37\\lib\\site-packages (from cycler>=0.10->matplotlib->Attitude) (1.15.0)\n"
          ]
        }
      ],
      "source": [
        "!pip install Attitude"
      ]
    },
    {
      "cell_type": "markdown",
      "metadata": {
        "id": "y_2hSdNuM9xN"
      },
      "source": [
        "# Interactive plotting example\n",
        "\n",
        "Source: https://davenquinn.com/projects/attitude/example-notebooks/Plotting-Interactive.html"
      ]
    },
    {
      "cell_type": "code",
      "execution_count": 34,
      "metadata": {
        "id": "FEGkiKYmM9X-"
      },
      "outputs": [],
      "source": [
        "import json\n",
        "import numpy as np\n",
        "import palettable as P\n",
        "#from attitude.stereonet import plane_errors, scale_errors, normal_errors # namespaces have changed since the example\n",
        "from attitude import Orientation, ReconstructedPlane, create_groups\n",
        "from attitude.display import plot_interactive, init_notebook_mode"
      ]
    },
    {
      "cell_type": "code",
      "execution_count": 35,
      "metadata": {
        "id": "c1Gl4ClaNPzj"
      },
      "outputs": [],
      "source": [
        "# load json data\n",
        "plane_fitting_str = '[{\"axes\":[[0.084812411634183,0.255113422693246,-0.963184300326024],[-0.00887637658262376,0.966822353160196,0.255295411961405],[0.99635739811152,-0.0131026329994243,0.0842630182044594]],\"center\":[-2486973.26094232,2288926.0968093,-275793.917856326],\"centered_array\":[[-0.0113378493115306,-0.0533589185215533,0.135520671959966],[-0.00356046762317419,-0.013877522200346,0.102903006947599],[-0.00718883844092488,0.0019633830524981,0.0324651462724432],[-0.00458744261413813,0.00210336083546281,-0.010170242167078],[0.00948386918753386,0.0236353459767997,-0.0988193363300525],[0.0171907297335565,0.0395343499258161,-0.161899246857502]],\"dip\":41.7217983198228,\"disabled\":false,\"hyperbolic_axes\":[0.0107653732549085,0.000197079749647264,0.000139625405375659],\"max_angular_error\":40.0875723268823,\"min_angular_error\":6.49715457657977,\"name\":\"\",\"rake\":1.76025331862212,\"strike\":2.0356798570984,\"uid\":\"4e25b7d1-34c7-4a1f-adaa-9ebaa1057deb\"},{\"axes\":[[0.763945219793486,0.477269856449246,0.434282379655908],[-0.560039011765,0.156083191481165,0.813630347663075],[0.320537059411177,-0.864784089505566,0.386528746773206]],\"center\":[-2486973.09323267,2288926.24423025,-275793.952227771],\"centered_array\":[[-0.123932582791895,-0.0793958883732557,-0.078258766036015],[-0.0800763834267855,-0.0555212791077793,-0.0549504421651363],[-0.0305509148165584,-0.00500994734466076,0.00818955065915361],[0.0272506545297802,0.0164438197389245,0.0182539464440197],[0.0789898452349007,0.0432791686616838,0.0462746664998122],[0.128319379873574,0.08020412735641,0.0604910446563736]],\"dip\":31.7668188714572,\"disabled\":false,\"hyperbolic_axes\":[0.012531075838112,0.000162661829407633,0.000107347531501284],\"max_angular_error\":39.0893286098664,\"min_angular_error\":5.28796942148659,\"name\":\"\",\"rake\":1.29384129486283,\"strike\":142.780810434147,\"uid\":\"768b1788-3d56-458f-a910-4c79bfe5f0b9\"},{\"axes\":[[0.341340214494416,0.483350847132077,-0.80613821181334],[-0.738760708495057,0.668218431810615,0.0878449940090126],[0.581136363991092,0.565558207406864,0.585170437122337]],\"center\":[-2486972.81826875,2288926.42189184,-275793.734584459],\"centered_array\":[[0.112993132323027,0.116696665529162,-0.22202755935723],[0.012331779114902,0.0693813371472061,-0.0652192916022614],[-0.00492093851789832,0.0153939132578671,-0.0272135228151456],[-0.0262393211014569,-0.0301967579871416,0.0396944281528704],[-0.0403787968680263,-0.0665931068360806,0.115225342044141],[-0.0537858554162085,-0.104682050645351,0.159540603403002]],\"dip\":84.7188179767002,\"disabled\":false,\"hyperbolic_axes\":[0.0198525668901167,0.000684722339176989,0.000482004296146409],\"max_angular_error\":39.9970556777545,\"min_angular_error\":8.85648553616974,\"name\":\"\",\"rake\":1.71274985860003,\"strike\":35.5966693417842,\"uid\":\"9efe08ad-b797-4078-99dc-a4a957d4968c\"},{\"axes\":[[0.55341333047498,0.507605167569866,-0.660356479114848],[-0.301853591558183,-0.616705467116087,-0.727020478454736],[-0.776284802708397,0.601673799234683,-0.188070583554385]],\"center\":[-2486974.51938053,2288924.75687418,-275794.878023717],\"centered_array\":[[-1.02789098769426,-1.02570986980572,1.08324557647575],[-0.559738472104073,-0.508835869841278,0.51919215824455],[-0.113847292494029,-0.000509616918861866,0.421680597879458],[0.303081346675754,0.313617237377912,-0.207995177304838],[0.541538808029145,0.524946488905698,-0.499623326293658],[0.856856596656144,0.696491628885269,-1.31649982905947]],\"dip\":7.82175039021375,\"disabled\":false,\"hyperbolic_axes\":[1.45674486569205,0.0162798197857358,0.00272681432632833],\"max_angular_error\":22.2574929513521,\"min_angular_error\":2.47735308441272,\"name\":\"\",\"rake\":1.56126226815835,\"strike\":52.4233218471984,\"uid\":\"53b665d1-6988-43eb-a20b-ec7af5ee2e16\"}]'\n",
        "plane_fitting_json = json.loads(plane_fitting_str)\n",
        "\n",
        "absolute_coords_str = '{\"geometries\":[{\"coordinates\":[[[-4.66479734701104,137.374583729058,-4983.6217628493],[-4.66479786739952,137.374583147329,-4983.59816546328],[-4.66479903512475,137.374582991399,-4983.57908415616],[-4.66479975558027,137.37458295979,-4983.57743006115],[-4.66480124257136,137.374582529691,-4983.56600668343],[-4.66480229779888,137.374582242912,-4983.55579735079]]],\"type\":\"Polygon\"},{\"coordinates\":[[[-4.66480146850477,137.374581582349,-4983.56007148408],[-4.66480109812966,137.374580781111,-4983.57801503019],[-4.66480003795803,137.374579582554,-4983.58537684351],[-4.66479990695469,137.374578651423,-4983.61410424783],[-4.66479946244031,137.374577722762,-4983.63621371957],[-4.66479923855861,137.374576695916,-4983.64862331552]]],\"type\":\"Polygon\"},{\"coordinates\":[[[-4.6648003942478,137.374571044249,-4983.68920962981],[-4.6647976959427,137.374572789964,-4983.66007723207],[-4.66479708873982,137.374573661398,-4983.68695497082],[-4.66479598291694,137.374574474773,-4983.70753415082],[-4.66479473059088,137.374575091056,-4983.7278735267],[-4.66479400623414,137.374575720044,-4983.74735381029]]],\"type\":\"Polygon\"}],\"type\":\"GeometryCollection\"}'\n",
        "absolute_coords_json = json.loads(absolute_coords_str)"
      ]
    },
    {
      "cell_type": "code",
      "execution_count": 36,
      "metadata": {
        "id": "_P_Xopu0Owdz"
      },
      "outputs": [],
      "source": [
        "# read the coorinates from the geometries\n",
        "# you access a field in a json with json_object[\"name_of_field\"]\n",
        "orientations = [] \n",
        "\n",
        "for geometry in absolute_coords_json[\"geometries\"]: # iterate over all geometries\n",
        "\n",
        "    coords = geometry[\"coordinates\"][0] # we index 0, because they are in an extra list\n",
        "    orientation = Orientation(np.array(coords)) # Orientation() wants an array of coordinates, because they are calculating some mean somewhere\n",
        "\n",
        "    orientations.append(orientation) # add the orientation to the orientations list\n",
        "\n",
        "# the original example groups some orientations, so we group also some to see how this works\n",
        "hashes = [ o.hash for o in orientations ] # fancy way for iterating a list and returning values into a new list\n",
        "groups = (\n",
        "    [hashes[0],hashes[1]], # group first and second orientation\n",
        "    [hashes[2],hashes[2]] # group third orientation with itself (there are only three orientations in our data)\n",
        ")\n",
        "\n",
        "groupedOrientations = create_groups(orientations, *groups, same_plane=False) # create the groups\n",
        "collection = [ go.to_mapping(color='#ff0000', type='remote') for go in groupedOrientations] # to_mapping converts the orientations to a suitable format for the final plotting, but I don't know what this type is for"
      ]
    },
    {
      "cell_type": "code",
      "execution_count": 37,
      "metadata": {
        "id": "OM5xo_kMOyDx"
      },
      "outputs": [],
      "source": [
        "# reconstruct the planes with angular errors\n",
        "for plane in plane_fitting_json: # iterate over all elements in the json\n",
        "\n",
        "    strike = plane[\"strike\"]\n",
        "    dip = plane[\"dip\"]\n",
        "    rake = plane[\"rake\"]\n",
        "\n",
        "    min_error = plane[\"min_angular_error\"]\n",
        "    max_error = plane[\"max_angular_error\"]\n",
        "\n",
        "    # in the original example there is a constant for both errors,\n",
        "    # I asume you put the angular errors in here\n",
        "    rec_plane = ReconstructedPlane(strike, dip, rake, min_error, max_error) \n",
        "\n",
        "    center = plane[\"center\"]\n",
        "    orientation = rec_plane.to_mapping(center=center, color='#444', type='in-situ') # still don't know what this type is for\n",
        "\n",
        "    collection.append(orientation) # add the orientation to our collection list from above"
      ]
    },
    {
      "cell_type": "code",
      "execution_count": 39,
      "metadata": {},
      "outputs": [
        {
          "name": "stdout",
          "output_type": "stream",
          "text": [
            "JS\n"
          ]
        }
      ],
      "source": [
        "print(\"JS\")"
      ]
    },
    {
      "cell_type": "code",
      "execution_count": 38,
      "metadata": {
        "id": "S01kZgz3O7E8"
      },
      "outputs": [
        {
          "name": "stdout",
          "output_type": "stream",
          "text": [
            "jd\n",
            "-275794.878023717\n"
          ]
        }
      ],
      "source": [
        "# you can skip this. this is just for pretty colors for every single entry in the collection\n",
        "# in the code above we colored all orientation and reconstructed planes with the same color respectively\n",
        "cmap = P.mycarta.CubeYF_7\n",
        "\n",
        "heights = np.array([o['center'][2] for o in collection])\n",
        "print(\"jd\")\n",
        "print(heights.min())\n",
        "rng = [heights.min(),heights.max()]\n",
        "\n",
        "for o in collection:\n",
        "    ix = np.interp(o['center'][2], rng, [0,6])\n",
        "    o['color'] = cmap.hex_colors[6-int(ix)]"
      ]
    },
    {
      "cell_type": "code",
      "execution_count": null,
      "metadata": {},
      "outputs": [],
      "source": [
        "\n",
        "heights = np.array([o['center'][2] for o in collection])\n",
        "print(\"jd\")\n",
        "print(heights.min())\n",
        "rng = [heights.min(),heights.max()]\n",
        "\n",
        "for o in collection:\n",
        "    ix = np.interp(o['center'][2], rng, [0,6])\n",
        "    o['color'] = cmap.hex_colors[6-int(ix)]"
      ]
    },
    {
      "cell_type": "code",
      "execution_count": 30,
      "metadata": {
        "id": "cm2RGEXLO-PE"
      },
      "outputs": [
        {
          "data": {
            "text/html": [
              "\n",
              "<div id='a__A7fccd9c1-aa92-4984-863a-29182e3bfc57'></div>\n",
              "<script type='text/javascript'>\n",
              "  var data=JSON.parse('[{\"uid\": \"f87627e1\", \"axes\": [[-7.606360829578181e-05, -2.1140657502694005e-05, 0.9999999968837], [0.9953780195348236, 0.09603432814921614, 7.774227286630464e-05], [0.09603432949346714, -0.9953780223462849, -1.373822827743787e-05]], \"hyperbolic_axes\": [0.0005615147619267389, 1.5166716363686168e-14, 7.665545746764499e-14], \"max_angular_error\": 66.02003809979671, \"min_angular_error\": 0.0006694429668326399, \"strike\": 264.4891452631301, \"dip\": 89.99921285750169, \"rake\": 0.004454304035755753, \"disabled\": false, \"color\": \"#7B0290\", \"type\": \"remote\", \"centered_array\": [[2.2439032631993427e-06, 7.956948593346169e-07, -0.0387217552815855], [1.7235147833360998e-06, 2.139658477062767e-07, -0.015124369261684478], [5.557895539354263e-07, 5.8035851679960615e-08, 0.003956937857765297], [-1.6466596619579832e-07, 2.642684648890281e-08, 0.005611032867818722], [-1.6516570564562016e-06, -4.0367214637626603e-07, 0.017034410588166793], [-2.706884576042512e-06, -6.904511451466533e-07, 0.02724374322770018]], \"center\": [-4.664799590914304, 137.37458293336314, -4983.583041094018], \"member_of\": \"dcd8a39b\"}, {\"uid\": \"ce864bc4\", \"axes\": [[2.3948408849104046e-05, -5.224627365107981e-05, -0.9999999983484004], [-0.723796327595993, 0.6900136761750872, -5.3384413813195586e-05], [0.6900136778245973, 0.7237963276790432, -2.1290931370598898e-05]], \"hyperbolic_axes\": [0.0012164518632433105, 1.3949235603463983e-13, 9.363458213892524e-14], \"max_angular_error\": 39.327761285917894, \"min_angular_error\": 0.0005026819681215949, \"strike\": 133.63119160825204, \"dip\": 89.99878011949046, \"rake\": 179.99694129850766, \"disabled\": false, \"color\": \"#7D48EA\", \"type\": \"remote\", \"centered_array\": [[-1.2664137578610735e-06, 2.412996508383003e-06, 0.04366262270286825], [-8.9603864772414e-07, 1.6117585062147555e-06, 0.025719076593304635], [1.6413298187245573e-07, 4.132014908009296e-07, 0.018357263273173885], [2.9513632160416137e-07, -5.179294930712786e-07, -0.010370141047133075], [7.39650701575556e-07, -1.4465904882854375e-06, -0.0324796127870286], [9.635324023093972e-07, -2.4734364956202626e-06, -0.04488920873700408]], \"center\": [-4.664800202091012, 137.3745791693525, -4983.603734106783], \"member_of\": \"dcd8a39b\"}, {\"uid\": \"bb2786e4\", \"axes\": [[5.5469544563947145e-05, 4.164700036934921e-05, -0.9999999975943287], [0.8110870043125581, 0.5849255222895616, 6.935102034055785e-05], [0.5849255237706851, -0.8110870062082189, -1.3337884425812518e-06]], \"hyperbolic_axes\": [0.0009792362082104357, 1.7382905813097547e-12, 1.3920018238387507e-13], \"max_angular_error\": 15.800554822947964, \"min_angular_error\": 0.0006831228347780574, \"strike\": 234.20227121788523, \"dip\": 89.99992357955148, \"rake\": 179.9960264792048, \"disabled\": false, \"color\": \"#7D48EA\", \"type\": \"remote\", \"centered_array\": [[-3.744469086797153e-06, -2.752665011485078e-06, 0.013957590274912945], [-1.0461639865511074e-06, -1.0069500149256783e-06, 0.04308998801479902], [-4.38961106574709e-07, -1.355160179628001e-07, 0.016212249264754064], [6.668617738014859e-07, 6.778589920486411e-07, -0.004366930735159258], [1.91918783354339e-06, 1.2941419811340893e-06, -0.02470630661537143], [2.643544573466272e-06, 1.923129985925698e-06, -0.04418659020575433]], \"center\": [-4.6647966497787134, 137.374573796914, -4983.703167220085], \"member_of\": \"85cc9316\"}, {\"uid\": \"dcd8a39b\", \"axes\": [[-4.040743399494601e-05, 2.9069209089516157e-05, 0.9999999987611102], [0.6299758512301925, 0.776614722277719, 2.8801318867621717e-06], [-0.7766147212318559, 0.6299758505661008, -4.969390787068484e-05]], \"hyperbolic_axes\": [0.0008081537101476099, 1.189328411177354e-13, 6.864722014630449e-13], \"max_angular_error\": 67.40117375021069, \"min_angular_error\": 0.0016698871562091943, \"strike\": 39.04834091460674, \"dip\": 89.99715274881032, \"rake\": 0.00016501702049789382, \"disabled\": false, \"color\": \"#7D48EA\", \"type\": \"remote\", \"centered_array\": null, \"members\": [\"f87627e1\", \"ce864bc4\"], \"center\": [-4.6647998965026565, 137.3745810513578, -4983.593387600401]}, {\"uid\": \"85cc9316\", \"axes\": [[5.5469544563947166e-05, 4.164700036946023e-05, -0.9999999975943286], [0.8110870043128183, 0.5849255222892007, 6.935102034044682e-05], [0.5849255237703241, -0.8110870062084791, -1.3337884428032964e-06]], \"hyperbolic_axes\": [0.000890231113519818, 2.5516197989758154e-12, 5.72629892725074e-14], \"max_angular_error\": 8.519890996338003, \"min_angular_error\": 0.00045952406047655914, \"strike\": 234.20227121791072, \"dip\": 89.99992357955146, \"rake\": 179.99602647929652, \"disabled\": false, \"color\": \"#7D48EA\", \"type\": \"remote\", \"centered_array\": null, \"members\": [\"bb2786e4\", \"bb2786e4\"], \"center\": [-4.6647966497787134, 137.374573796914, -4983.703167220085]}, {\"uid\": \"ae5b6e88\", \"axes\": [[0.7444708688164633, -0.057198457579789495, -0.6652003171482657], [-0.05841760534561713, -0.9980828987922485, 0.020442859979608114], [0.6650943608762172, -0.0236402958728345, 0.7463850397359937]], \"hyperbolic_axes\": [2.740958133018596, 17.61828792312862, 1.0], \"max_angular_error\": 40.0875723268823, \"min_angular_error\": 6.49715457657977, \"strike\": 2.0356798570984, \"dip\": 41.7217983198228, \"rake\": 1.76025331862212, \"disabled\": false, \"center\": [-2486973.26094232, 2288926.0968093, -275793.917856326], \"color\": \"#D1EB5B\", \"type\": \"in-situ\"}, {\"uid\": \"89c95b36\", \"axes\": [[-0.6905209017044788, -0.49614348867345337, -0.5263292913720159], [-0.5894242607632023, 0.8077361751697713, 0.011887478532518196], [-0.41923731362199385, -0.31843980588023774, 0.8501977210613837]], \"hyperbolic_axes\": [2.816932289048383, 21.654854327435466, 1.0], \"max_angular_error\": 39.0893286098664, \"min_angular_error\": 5.28796942148659, \"strike\": 142.780810434147, \"dip\": 31.7668188714572, \"rake\": 1.29384129486283, \"disabled\": false, \"center\": [-2486973.09323267, 2288926.24423025, -275793.952227771], \"color\": \"#D1EB5B\", \"type\": \"in-situ\"}, {\"uid\": \"e0d03d09\", \"axes\": [[0.05741288823919571, -0.0778558922067466, -0.9953101126346124], [-0.584052632818988, -0.8111699930883414, 0.029761794473260123], [0.8096828282489643, -0.5796047811757179, 0.09204355097999178]], \"hyperbolic_axes\": [2.7476970840185295, 12.91294415658298, 1.0], \"max_angular_error\": 39.9970556777545, \"min_angular_error\": 8.85648553616974, \"strike\": 35.5966693417842, \"dip\": 84.7188179767002, \"rake\": 1.71274985860003, \"disabled\": false, \"center\": [-2486972.81826875, 2288926.42189184, -275793.734584459], \"color\": \"#D1EB5B\", \"type\": \"in-situ\"}, {\"uid\": \"05400fcf\", \"axes\": [[0.5823313721119875, -0.8014879787806334, -0.1360411442332971], [-0.8087042340346984, -0.5882038023863503, 0.0037079256453050346], [0.08299177614993965, -0.1078578079156728, 0.9906962492929425]], \"hyperbolic_axes\": [5.083540778211063, 46.248436111848996, 1.0], \"max_angular_error\": 22.2574929513521, \"min_angular_error\": 2.47735308441272, \"strike\": 52.4233218471984, \"dip\": 7.82175039021375, \"rake\": 1.56126226815835, \"disabled\": false, \"center\": [-2486974.51938053, 2288924.75687418, -275794.878023717], \"color\": \"#D1EB5B\", \"type\": \"in-situ\"}]');\n",
              "  attitudeUI(document.querySelector('#a__A7fccd9c1-aa92-4984-863a-29182e3bfc57'),data);\n",
              "</script>\n"
            ],
            "text/plain": [
              "<IPython.core.display.HTML object>"
            ]
          },
          "metadata": {},
          "output_type": "display_data"
        }
      ],
      "source": [
        "# plot everything in an interactive plot\n",
        "init_notebook_mode()\n",
        "plot_interactive(collection)"
      ]
    },
    {
      "cell_type": "code",
      "execution_count": null,
      "metadata": {
        "id": "s7NB0JzrQtJc"
      },
      "outputs": [],
      "source": []
    }
  ],
  "metadata": {
    "colab": {
      "private_outputs": true,
      "provenance": []
    },
    "gpuClass": "standard",
    "kernelspec": {
      "display_name": "Python 3.7.8 64-bit",
      "language": "python",
      "name": "python3"
    },
    "language_info": {
      "codemirror_mode": {
        "name": "ipython",
        "version": 3
      },
      "file_extension": ".py",
      "mimetype": "text/x-python",
      "name": "python",
      "nbconvert_exporter": "python",
      "pygments_lexer": "ipython3",
      "version": "3.7.8"
    },
    "vscode": {
      "interpreter": {
        "hash": "dbdd5831ed242dda80320f1ab53ab2298e2824e3e1aa330f1aee0d9af416c919"
      }
    }
  },
  "nbformat": 4,
  "nbformat_minor": 0
}
