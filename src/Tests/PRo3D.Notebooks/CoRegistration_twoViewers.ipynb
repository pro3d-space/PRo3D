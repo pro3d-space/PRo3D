{
 "cells": [
  {
   "cell_type": "markdown",
   "metadata": {},
   "source": [
    "## (1) Setup\n",
    "Go through the setup instruction on our [Github Wiki](https://github.com/pro3d-space/PRo3D/wiki/Interactive-Co%E2%80%90Regsitration-Workflow#setup), which concludes with executing the first cell."
   ]
  },
  {
   "cell_type": "code",
   "execution_count": null,
   "metadata": {},
   "outputs": [],
   "source": [
    "# imports\n",
    "from typing import Any\n",
    "import requests\n",
    "import json\n",
    "import open3d as o3d\n",
    "import numpy as np\n",
    "import subprocess\n",
    "\n",
    "from pro3d_api import Pro3DClient\n",
    "import data_io as io\n",
    "import o3d_uitls as o3du"
   ]
  },
  {
   "cell_type": "markdown",
   "metadata": {},
   "source": [
    "## (2) Coordinate Alignment\n",
    "In order to align the coordinate system of SRC to TGT, we need to pick feature points on either surface, that represent the same geologic feature. In our example the angular feature of the cape should work out perfectly. Draw a polyline with **linear projection** on SRC and another on TGT. Both polylines, **must** have the **same number of points**, lie on the **same visual features**, and the points have to be **in the same order**. Minimum number is three, but we recommend to use 5 or 6.\n",
    "\n",
    "❗ Before executing the next cell, make sure the **annotation in the respective viewer is selected**, otherwise the point retrieval will fail."
   ]
  },
  {
   "cell_type": "code",
   "execution_count": null,
   "metadata": {},
   "outputs": [],
   "source": [
    "# create api clients for SRC and TGT Pro3D instances\n",
    "src_client = Pro3DClient(port=4321)\n",
    "tgt_client = Pro3DClient(port=4322)\n",
    "\n",
    "# Retrieve selected annotation points from two SRC and TGT Pro3D instances\n",
    "src_points = src_client.get_selected_annotation_points(verbose=True)\n",
    "tgt_points = tgt_client.get_selected_annotation_points(verbose=True)"
   ]
  },
  {
   "cell_type": "code",
   "execution_count": null,
   "metadata": {},
   "outputs": [],
   "source": [
    "# Compute the rigid transformation matrix using Open3D\n",
    "transformation_matrix = o3du.compute_rigid_transformation_from_correspondences(tgt_points, src_points)\n",
    "print(transformation_matrix)"
   ]
  },
  {
   "cell_type": "code",
   "execution_count": null,
   "metadata": {},
   "outputs": [],
   "source": [
    "# Apply transformation to selected surface\n",
    "tgt_client.apply_transformation_to_selected_surface(transformation_matrix, verbose=True)\n"
   ]
  },
  {
   "cell_type": "markdown",
   "metadata": {},
   "source": [
    "# (3) Fine Registration\n",
    "\n",
    "## (3.1) Creating a TGT surface cutout"
   ]
  },
  {
   "cell_type": "code",
   "execution_count": null,
   "metadata": {},
   "outputs": [],
   "source": [
    "objText = tgt_client.query_annotation_as_obj(verbose=True)\n",
    "print(objText)\n",
    "\n",
    "# Save the transformed object to a file\n",
    "filename_tgt_cutout =\"./cutout.obj\"\n",
    "file = open(filename_tgt_cutout, \"w\")\n",
    "file.write(objText)\n",
    "file.close()\n",
    "\n",
    "io.open_file_in_meshlab(filename_tgt_cutout)\n"
   ]
  },
  {
   "cell_type": "markdown",
   "metadata": {},
   "source": [
    "## (3.2) Employing Iterative Closest Point Optimization"
   ]
  },
  {
   "cell_type": "code",
   "execution_count": null,
   "metadata": {},
   "outputs": [],
   "source": [
    "# ICP fine registration\n",
    "src_filename = \"G:/PRo3D/AI-Mars-3D/Co-Registration/20250325_Nukshak_Sol544/m2020-zcam-delta-above-cape-nukshak-sol-544/source/m26_Delta_W_300k_8k_average.obj\"\n",
    "\n",
    "# Load the SRC and TGT meshes\n",
    "tgt_mesh = o3d.io.read_triangle_mesh(filename_tgt_cutout)\n",
    "src_mesh = o3d.io.read_triangle_mesh(src_filename)\n",
    "\n",
    "# Convert meshes to point clouds for registration\n",
    "tgt_pcd = tgt_mesh.sample_points_uniformly(number_of_points=100000)\n",
    "src_pcd = src_mesh.sample_points_uniformly(number_of_points=100000)\n",
    "\n",
    "# Define the pre-alignment (Helmert transformation)\n",
    "pre_alignment = transformation_matrix\n",
    "\n",
    "# Apply the pre-alignment transformation to the SRC point cloud\n",
    "# src_pcd.transform(pre_alignment)\n",
    "\n",
    "# Perform fine registration using ICP\n",
    "icp_result = o3d.pipelines.registration.registration_icp(\n",
    "    src_pcd, tgt_pcd, max_correspondence_distance=0.01,\n",
    "    init=pre_alignment, # np.eye(4),\n",
    "    estimation_method=o3d.pipelines.registration.TransformationEstimationPointToPoint(),\n",
    "    criteria=o3d.pipelines.registration.ICPConvergenceCriteria(max_iteration=200)\n",
    ")\n",
    "\n",
    "# Print the transformation matrices\n",
    "print(\"Pre-Alignment (Helmert) Transformation:\")\n",
    "print(pre_alignment)\n",
    "\n",
    "print(\"\\nICP Refinement Transformation:\")\n",
    "print(icp_result.transformation)"
   ]
  },
  {
   "cell_type": "code",
   "execution_count": null,
   "metadata": {},
   "outputs": [],
   "source": [
    "# Apply final result\n",
    "tgt_client.apply_transformation_to_selected_surface(icp_result.transformation, verbose=True)"
   ]
  },
  {
   "cell_type": "code",
   "execution_count": null,
   "metadata": {},
   "outputs": [],
   "source": [
    "# Apply transformation to selected surface\n",
    "tgt_client.apply_transformation_to_selected_surface(transformation_matrix, verbose=True)\n"
   ]
  }
 ],
 "metadata": {
  "kernelspec": {
   "display_name": "coreg",
   "language": "python",
   "name": "python3"
  },
  "language_info": {
   "codemirror_mode": {
    "name": "ipython",
    "version": 3
   },
   "file_extension": ".py",
   "mimetype": "text/x-python",
   "name": "python",
   "nbconvert_exporter": "python",
   "pygments_lexer": "ipython3",
   "version": "3.12.9"
  },
  "orig_nbformat": 4
 },
 "nbformat": 4,
 "nbformat_minor": 2
}
