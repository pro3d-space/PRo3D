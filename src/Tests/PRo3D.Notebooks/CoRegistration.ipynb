{
 "cells": [
  {
   "cell_type": "markdown",
   "metadata": {},
   "source": [
    "## (1) Setup\n",
    "Go through the setup instruction on our [Github Wiki](https://github.com/pro3d-space/PRo3D/wiki/Interactive-Co%E2%80%90Regsitration-Workflow#setup), which concludes with executing the first cell."
   ]
  },
  {
   "cell_type": "code",
   "execution_count": null,
   "metadata": {},
   "outputs": [],
   "source": [
    "# imports\n",
    "from typing import Any\n",
    "import requests\n",
    "import json\n",
    "import open3d as o3d\n",
    "import numpy as np\n",
    "import subprocess\n",
    "\n",
    "from pro3d_api import Pro3DClient\n",
    "import data_io as io\n",
    "import o3d_uitls as o3du"
   ]
  },
  {
   "cell_type": "code",
   "execution_count": null,
   "metadata": {},
   "outputs": [],
   "source": [
    "# create api client Pro3D instance\n",
    "client = Pro3DClient(port=4321)"
   ]
  },
  {
   "cell_type": "markdown",
   "metadata": {},
   "source": [
    "## (2) Coordinate Alignment\n",
    "In order to align the coordinate system of SRC to TGT, we need to pick feature points on either surface, that represent the same geologic feature. In our example the angular feature of the cape should work out perfectly. Draw a polyline with **linear projection** on SRC and another on TGT. Both polylines, **must** have the **same number of points**, lie on the **same visual features**, and the points have to be **in the same order**. Minimum number is three, but we recommend to use 5 or 6.\n",
    "\n",
    "👈 Select annotation drawn on SRC surface"
   ]
  },
  {
   "cell_type": "code",
   "execution_count": null,
   "metadata": {},
   "outputs": [],
   "source": [
    "# Retrieve selected annotation points as SRC - 361\n",
    "src_points = client.get_selected_annotation_points(verbose=True)"
   ]
  },
  {
   "cell_type": "markdown",
   "metadata": {},
   "source": [
    "👈  Select annotation drawn on TGT surface"
   ]
  },
  {
   "cell_type": "code",
   "execution_count": null,
   "metadata": {},
   "outputs": [],
   "source": [
    "# Retrieve selected annotation points as TGT - 360\n",
    "tgt_points = client.get_selected_annotation_points(verbose=True)"
   ]
  },
  {
   "cell_type": "code",
   "execution_count": null,
   "metadata": {},
   "outputs": [],
   "source": [
    "# Compute the rigid transformation matrix using Open3D\n",
    "alignment_trafo = o3du.compute_rigid_transformation_from_correspondences(tgt_points, src_points)\n",
    "print(alignment_trafo)"
   ]
  },
  {
   "cell_type": "markdown",
   "metadata": {},
   "source": [
    "👈 Select TGT surface to be transformed"
   ]
  },
  {
   "cell_type": "code",
   "execution_count": null,
   "metadata": {},
   "outputs": [],
   "source": [
    "# Apply transformation to selected surface\n",
    "client.apply_transformation_to_selected_surface(alignment_trafo, verbose=True)"
   ]
  },
  {
   "cell_type": "code",
   "execution_count": null,
   "metadata": {},
   "outputs": [],
   "source": [
    "# move to original position\n",
    "client.apply_transformation_to_selected_surface(np.eye(4), verbose=True)"
   ]
  },
  {
   "cell_type": "markdown",
   "metadata": {},
   "source": [
    "# (3) Fine Registration\n",
    "\n",
    "## (3.1) Creating a TGT surface cutout\n",
    "For fine registration we need to cut out a piece of the target surface to limit the region our source is matched two. For this, we need to draw an annotation on the TGT surface containing the SRC surface. Then we need to select this cutout annotation and the TGT surface we want to cut out from.\n",
    "\n",
    "👈 select cut out Annotation\n",
    "\n",
    "👈 select TGT surface"
   ]
  },
  {
   "cell_type": "code",
   "execution_count": null,
   "metadata": {},
   "outputs": [],
   "source": [
    "json_data = client.query_annotation_as_json()\n",
    "points = np.array(json.loads(json_data))\n",
    "\n",
    "# Create a point cloud object and assign the points\n",
    "tgt_pcd = o3du.create_point_cloud_from_array(points)"
   ]
  },
  {
   "cell_type": "markdown",
   "metadata": {},
   "source": [
    "👈 select SRC surface"
   ]
  },
  {
   "cell_type": "code",
   "execution_count": null,
   "metadata": {},
   "outputs": [],
   "source": [
    "json_data = client.query_annotation_as_json()\n",
    "points = np.array(json.loads(json_data))\n",
    "\n",
    "# Create a point cloud object and assign the points\n",
    "src_pcd = o3du.create_point_cloud_from_array(points)"
   ]
  },
  {
   "cell_type": "markdown",
   "metadata": {},
   "source": [
    "## (3.2) Employing Iterative Closest Point Optimization"
   ]
  },
  {
   "cell_type": "code",
   "execution_count": null,
   "metadata": {},
   "outputs": [],
   "source": [
    "icp_result = o3du.refine_registration_icp(\n",
    "    src_pcd, \n",
    "    tgt_pcd, \n",
    "    alignment_trafo, \n",
    "    voxel_size=0.05, \n",
    "    max_correspondence_distance=0.075\n",
    ")"
   ]
  },
  {
   "cell_type": "code",
   "execution_count": null,
   "metadata": {},
   "outputs": [],
   "source": [
    "# Apply final result\n",
    "client.apply_transformation_to_selected_surface(icp_result.transformation, verbose=True)"
   ]
  },
  {
   "cell_type": "code",
   "execution_count": null,
   "metadata": {},
   "outputs": [],
   "source": [
    "# Apply transformation to selected surface\n",
    "client.apply_transformation_to_selected_surface(alignment_trafo, verbose=True)"
   ]
  },
  {
   "cell_type": "markdown",
   "metadata": {},
   "source": [
    "# (4) Validation"
   ]
  },
  {
   "cell_type": "code",
   "execution_count": null,
   "metadata": {},
   "outputs": [],
   "source": [
    "T = icp_result.transformation  # 4x4 matrix\n",
    "\n",
    "src_pcd.transform(T)\n",
    "\n",
    "offset = src_pcd.get_center()  # or any reference origin\n",
    "src_pcd.translate(-offset)\n",
    "tgt_pcd.translate(-offset)\n",
    "\n",
    "o3d.io.write_point_cloud(\"src_transformed.ply\", src_pcd)\n",
    "o3d.io.write_point_cloud(\"tgt_reference.ply\", tgt_pcd)"
   ]
  },
  {
   "cell_type": "code",
   "execution_count": null,
   "metadata": {},
   "outputs": [],
   "source": [
    "o3du.run_m3c2(\n",
    "    \"C:\\\\Program Files\\\\CloudCompare\\\\CloudCompare.exe\",\n",
    "    \"src_transformed.ply\",\n",
    "    \"tgt_reference.ply\",\n",
    "    \"param_file.txt\")"
   ]
  }
 ],
 "metadata": {
  "kernelspec": {
   "display_name": "coreg",
   "language": "python",
   "name": "python3"
  },
  "language_info": {
   "codemirror_mode": {
    "name": "ipython",
    "version": 3
   },
   "file_extension": ".py",
   "mimetype": "text/x-python",
   "name": "python",
   "nbconvert_exporter": "python",
   "pygments_lexer": "ipython3",
   "version": "3.12.9"
  },
  "orig_nbformat": 4
 },
 "nbformat": 4,
 "nbformat_minor": 2
}
