{
 "cells": [
  {
   "cell_type": "code",
   "execution_count": null,
   "metadata": {},
   "outputs": [],
   "source": [
    "! pip install obj2html"
   ]
  },
  {
   "cell_type": "code",
   "execution_count": 3,
   "metadata": {},
   "outputs": [
    {
     "name": "stdout",
     "output_type": "stream",
     "text": [
      "4c2224dd-96d8-4921-824b-f82f2c1e3812\n"
     ]
    }
   ],
   "source": [
    "import requests\n",
    "import json\n",
    "import subprocess\n",
    "\n",
    "url = \"http://localhost:4321/api/queries/findAnnotation\"\n",
    "response = requests.get(url)\n",
    "id = json.loads(response.text)[0]\n",
    "print(id)"
   ]
  },
  {
   "cell_type": "code",
   "execution_count": 5,
   "metadata": {},
   "outputs": [
    {
     "name": "stdout",
     "output_type": "stream",
     "text": [
      "{'annotationId': '4c2224dd-96d8-4921-824b-f82f2c1e3812', 'queryAttributes': [], 'distanceToPlane': 100000.0, 'outputReferenceFrame': 'global', 'outputGeometryType': 'pointcloud'}\n"
     ]
    }
   ],
   "source": [
    "url = \"http://localhost:4321/api/queries/queryAnnotationAsObj\"\n",
    "payload = {\n",
    "    \"annotationId\": id, \n",
    "    \"queryAttributes\":[], \n",
    "    \"distanceToPlane\": 100000.0,\n",
    "    \"outputReferenceFrame\": \"global\",\n",
    "    \"outputGeometryType\": \"pointcloud\"\n",
    "}\n",
    "print(payload)\n",
    "response = requests.post(url, json=payload)\n",
    "response.raise_for_status() \n",
    "filename = \"./6952.obj\"\n",
    "file = open(filename, \"w\")\n",
    "file.write(response.text)\n",
    "file.close()"
   ]
  },
  {
   "cell_type": "code",
   "execution_count": null,
   "metadata": {},
   "outputs": [],
   "source": [
    "try:\n",
    "    subprocess.Popen([\"C:/Program Files/vcg/MeshLab/meshlab.exe\", filename])\n",
    "    print(\"MeshLab started successfully.\")\n",
    "except FileNotFoundError:\n",
    "    print(\"MeshLab executable not found. Please ensure it is installed and in your system PATH.\")"
   ]
  },
  {
   "cell_type": "code",
   "execution_count": null,
   "metadata": {},
   "outputs": [],
   "source": [
    "url = \"http://localhost:4321/api/queries/queryAnnotationAsJson\"\n",
    "payload = {\"annotationId\": id, \"queryAttributes\":[\"Ele.aara\"],\"distanceToPlane\": 100.0}\n",
    "response = requests.get(url, json=payload)\n",
    "print(response.text)"
   ]
  },
  {
   "cell_type": "code",
   "execution_count": null,
   "metadata": {},
   "outputs": [],
   "source": [
    "from obj2html import obj2html\n",
    "from IPython.display import display, HTML\n",
    "obj2html(\"./obj.obj\", 'index.html')\n",
    "display(HTML('index.html'))"
   ]
  }
 ],
 "metadata": {
  "kernelspec": {
   "display_name": "open3d_env",
   "language": "python",
   "name": "python3"
  },
  "language_info": {
   "codemirror_mode": {
    "name": "ipython",
    "version": 3
   },
   "file_extension": ".py",
   "mimetype": "text/x-python",
   "name": "python",
   "nbconvert_exporter": "python",
   "pygments_lexer": "ipython3",
   "version": "3.9.21"
  },
  "orig_nbformat": 4
 },
 "nbformat": 4,
 "nbformat_minor": 2
}
