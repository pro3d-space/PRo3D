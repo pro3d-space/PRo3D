{
 "cells": [
  {
   "cell_type": "code",
   "execution_count": 1,
   "metadata": {},
   "outputs": [
    {
     "name": "stdout",
     "output_type": "stream",
     "text": [
      "Jupyter environment detected. Enabling Open3D WebVisualizer.\n",
      "[Open3D INFO] WebRTC GUI backend enabled.\n",
      "[Open3D INFO] WebRTCWindowSystem: HTTP handshake server disabled.\n"
     ]
    }
   ],
   "source": [
    "# imports\n",
    "import requests\n",
    "import json\n",
    "\n",
    "import open3d as o3d\n",
    "import numpy as np\n",
    "\n",
    "import subprocess"
   ]
  },
  {
   "cell_type": "code",
   "execution_count": 2,
   "metadata": {},
   "outputs": [
    {
     "name": "stdout",
     "output_type": "stream",
     "text": [
      "4c2224dd-96d8-4921-824b-f82f2c1e3812\n"
     ]
    }
   ],
   "source": [
    "\n",
    "# get the id of the first annotation\n",
    "url = \"http://localhost:4321/api/queries/findAnnotation\"\n",
    "response = requests.get(url)\n",
    "id = json.loads(response.text)[0]\n",
    "print(id)"
   ]
  },
  {
   "cell_type": "code",
   "execution_count": 31,
   "metadata": {},
   "outputs": [],
   "source": [
    "# Helper functions\n",
    "def applyTrafoToSurface(port, surface_id, transformation_matrix) -> None:\n",
    "    \"\"\"\n",
    "    Applies a transformation to a surface.\n",
    "    \"\"\"\n",
    "    url = f\"http://localhost:{port}/api/surfaces/{surface_id}/transform\"\n",
    "\n",
    "    payload = {\n",
    "        \"forward\": transformation_matrix.tolist()\n",
    "    }\n",
    "\n",
    "    headers = {\n",
    "        \"Content-Type\": \"application/json\"\n",
    "    }\n",
    "\n",
    "    response = requests.post(url, json=payload, headers=headers)\n",
    "    response.raise_for_status() \n",
    "    print(response.text)    \n",
    "\n",
    "def writePcdObj (outputFile, pcd) -> None:\n",
    "    \"\"\"\n",
    "    Writes a point cloud to a .pcd and .obj file.\n",
    "    \"\"\"\n",
    "    with open(outputFile, \"w\") as f:\n",
    "        for point in pcd.points:\n",
    "            f.write(f\"v {point[0]} {point[1]} {point[2]}\\n\")\n",
    "\n",
    "def openFileInMeshlab (file) -> None:\n",
    "    \"\"\"\n",
    "    Opens a file in Meshlab.\n",
    "    \"\"\"\n",
    "    # open cutout in MeshLab\n",
    "    try:\n",
    "        subprocess.Popen([\"C:/Program Files/vcg/MeshLab/meshlab.exe\", file])\n",
    "        print(\"MeshLab started successfully.\")\n",
    "    except FileNotFoundError:\n",
    "        print(\"MeshLab executable not found. Please ensure it is installed and in your system PATH.\")\n",
    "\n",
    "def load_obj_as_pointcloud(file_path):\n",
    "    points = []\n",
    "    with open(file_path, 'r') as f:\n",
    "        for line in f:\n",
    "            if line.startswith(\"v \"):  # Vertex line\n",
    "                parts = line.strip().split()\n",
    "                x, y, z = map(float, parts[1:4])  # Extract X, Y, Z\n",
    "                points.append([x, y, z])\n",
    "\n",
    "    # Create Open3D PointCloud\n",
    "    point_cloud = o3d.geometry.PointCloud()\n",
    "    point_cloud.points = o3d.utility.Vector3dVector(np.array(points))\n",
    "    return point_cloud\n"
   ]
  },
  {
   "cell_type": "code",
   "execution_count": 4,
   "metadata": {},
   "outputs": [],
   "source": [
    "tgt_points_id = \"3d87d707-5735-4d7d-a401-679ae2a748b5\"\n",
    "src_points_id = \"4b854809-1601-4e7e-aa78-85aa19fa43d3\""
   ]
  },
  {
   "cell_type": "code",
   "execution_count": 6,
   "metadata": {},
   "outputs": [
    {
     "name": "stdout",
     "output_type": "stream",
     "text": [
      "tgt points: [[137.15062074 -56.11408989 -29.09428223]\n",
      " [108.25235213 -46.44734016 -27.29873521]\n",
      " [ 72.28858124 -58.32665047 -23.85722113]\n",
      " [  4.47920139 -91.81704426 -42.33971145]]\n",
      "src points: [[ 701757.85653848 3142014.52990013 1073527.84141308]\n",
      " [ 701746.07743941 3142024.38444733 1073498.90227216]\n",
      " [ 701763.76885274 3142030.26883148 1073463.93951211]\n",
      " [ 701813.23370933 3142061.36943788 1073394.22420414]]\n"
     ]
    }
   ],
   "source": [
    "# Define the URL and query parameters\n",
    "url = \"http://localhost:4322/api/annotations/3d87d707-5735-4d7d-a401-679ae2a748b5/points\"\n",
    "\n",
    "# Send a GET request to the Suave endpoint\n",
    "response = requests.get(url)\n",
    "tgt_points = np.array(json.loads(response.text))\n",
    "\n",
    "print(f\"tgt points: {tgt_points}\")\n",
    "\n",
    "# Define the URL and query parameters\n",
    "url = \"http://localhost:4321/api/annotations/4b854809-1601-4e7e-aa78-85aa19fa43d3/points\"\n",
    "\n",
    "# Send a GET request to the Suave endpoint\n",
    "response = requests.get(url)\n",
    "src_points = np.array(json.loads(response.text))\n",
    "\n",
    "print(f\"src points: {src_points}\")\n"
   ]
  },
  {
   "cell_type": "code",
   "execution_count": 30,
   "metadata": {},
   "outputs": [
    {
     "name": "stdout",
     "output_type": "stream",
     "text": [
      "Computed Transformation Matrix:\n",
      "[[-9.55238971e-02 -3.07990171e-01  9.46581872e-01  1.87031379e+04]\n",
      " [-9.57203477e-01  2.89405582e-01 -2.43162464e-03 -2.35037772e+05]\n",
      " [-2.73197160e-01 -9.06303737e-01 -3.22454412e-01  3.38547244e+06]\n",
      " [ 0.00000000e+00  0.00000000e+00  0.00000000e+00  1.00000000e+00]]\n"
     ]
    }
   ],
   "source": [
    "# Convert numpy arrays to Open3D PointClouds\n",
    "source_pcd = o3d.geometry.PointCloud()\n",
    "source_pcd.points = o3d.utility.Vector3dVector(src_points)\n",
    "\n",
    "target_pcd = o3d.geometry.PointCloud()\n",
    "target_pcd.points = o3d.utility.Vector3dVector(tgt_points)\n",
    "\n",
    "# Define correspondences as index pairs\n",
    "correspondences = np.array([[0, 0], [1, 1], [2, 2], [3, 3]])\n",
    "correspondences_o3d = o3d.utility.Vector2iVector(correspondences)\n",
    "\n",
    "# Create a TransformationEstimationPointToPoint object\n",
    "estimation = o3d.pipelines.registration.TransformationEstimationPointToPoint()\n",
    "\n",
    "# Compute the rigid transformation matrix\n",
    "transformation_matrix = estimation.compute_transformation(source_pcd, target_pcd, correspondences_o3d)\n",
    "\n",
    "# Print the transformation matrix\n",
    "print(\"Computed Transformation Matrix:\")\n",
    "print(transformation_matrix)"
   ]
  },
  {
   "cell_type": "code",
   "execution_count": 10,
   "metadata": {},
   "outputs": [
    {
     "name": "stdout",
     "output_type": "stream",
     "text": [
      "Received payload [[-0.09552389707154675, -0.30799017131390394, 0.9465818715052053, 18703.137882233565], [-0.957203477112682, 0.28940558150288864, -0.002431624635176946, -235037.77169871362], [-0.27319716047509696, -0.9063037370379798, -0.3224544118776125, 3385472.4427601513], [0, 0, 0, 1]]\n"
     ]
    }
   ],
   "source": [
    "# Apply transformation to target surface\n",
    "tgt_surface_id = \"191cef90-bcbc-4acb-9318-ae11aa6355d4\"\n",
    "src_surface_id = \"cfd09c0d-b202-47cd-9e4c-bc66b8e7b275\"\n",
    "applyTrafoToSurface(4321, tgt_surface_id, transformation_matrix)\n"
   ]
  },
  {
   "cell_type": "code",
   "execution_count": 13,
   "metadata": {},
   "outputs": [
    {
     "name": "stdout",
     "output_type": "stream",
     "text": [
      "{'annotationId': '4c2224dd-96d8-4921-824b-f82f2c1e3812', 'queryAttributes': [], 'distanceToPlane': 100000.0, 'outputReferenceFrame': 'global', 'outputGeometryType': 'pointcloud'}\n"
     ]
    }
   ],
   "source": [
    "cut_annotation_id = \"4c2224dd-96d8-4921-824b-f82f2c1e3812\"\n",
    "url = \"http://localhost:4321/api/queries/queryAnnotationAsObj\"\n",
    "\n",
    "# retrieve the cutout geometry\n",
    "payload = {\n",
    "    \"annotationId\": cut_annotation_id, \n",
    "    \"queryAttributes\":[], \n",
    "    \"distanceToPlane\": 100000.0,\n",
    "    \"outputReferenceFrame\": \"global\",\n",
    "    \"outputGeometryType\": \"pointcloud\"\n",
    "}\n",
    "print(payload)\n",
    "response = requests.post(url, json=payload)\n",
    "response.raise_for_status() \n",
    "filename = \"./coutout.obj\"\n",
    "file = open(filename, \"w\")\n",
    "file.write(response.text)\n",
    "file.close()"
   ]
  },
  {
   "cell_type": "code",
   "execution_count": 25,
   "metadata": {},
   "outputs": [
    {
     "name": "stdout",
     "output_type": "stream",
     "text": [
      "[Open3D INFO] Skipping non-triangle primitive geometry of type: 8\n",
      "[Open3D INFO] Skipping non-triangle primitive geometry of type: 8\n",
      "[Open3D INFO] Skipping non-triangle primitive geometry of type: 8\n",
      "[Open3D WARNING] Write PNG failed: image has no data.\n",
      "[Open3D WARNING] Write OBJ successful, but failed to write texture file.\n"
     ]
    },
    {
     "data": {
      "text/plain": [
       "True"
      ]
     },
     "execution_count": 25,
     "metadata": {},
     "output_type": "execute_result"
    }
   ],
   "source": [
    "tgt_filePath = \"G:\\PRo3D\\AI-Mars-3D\\Co-Registration\\packageGP\\m2020-zcam-kodiak\\source\\model_4b_kodiak_100m_zcam_scam.obj\"\n",
    "tgt_filePath_trans = \"G:\\PRo3D\\AI-Mars-3D\\Co-Registration\\packageGP\\m2020-zcam-kodiak\\source\\model_4b_kodiak_100m_zcam_scam_IAU.obj\"\n",
    "\n",
    "mesh = o3d.io.read_triangle_mesh(tgt_filePath)\n",
    "\n",
    "mesh.vertices = o3d.utility.Vector3dVector(np.asarray(mesh.vertices, dtype=np.float64))\n",
    "\n",
    "mesh = mesh.transform(transformation_matrix)\n",
    "o3d.io.write_triangle_mesh(tgt_filePath_trans, mesh)"
   ]
  },
  {
   "cell_type": "code",
   "execution_count": 32,
   "metadata": {},
   "outputs": [
    {
     "data": {
      "text/plain": [
       "PointCloud with 566250 points."
      ]
     },
     "execution_count": 32,
     "metadata": {},
     "output_type": "execute_result"
    }
   ],
   "source": []
  },
  {
   "cell_type": "code",
   "execution_count": null,
   "metadata": {},
   "outputs": [
    {
     "name": "stdout",
     "output_type": "stream",
     "text": [
      "[Open3D INFO] Skipping non-triangle primitive geometry of type: 8\n",
      "[Open3D INFO] Skipping non-triangle primitive geometry of type: 8\n",
      "[Open3D INFO] Skipping non-triangle primitive geometry of type: 8\n",
      "\n",
      "ICP Refinement Transformation:\n",
      "[[ 0.99866711  0.04741196  0.02039853  7.45731967]\n",
      " [-0.0454661   0.99516026 -0.08711423  7.20467192]\n",
      " [-0.02443006  0.08607068  0.99598946  8.01979755]\n",
      " [ 0.          0.          0.          1.        ]]\n"
     ]
    }
   ],
   "source": [
    "# ICP fine registration\n",
    "\n",
    "# Load the SRC and TGT meshes\n",
    "src_pcd = load_obj_as_pointcloud(filename)\n",
    "src_pcd.transform(transformation_matrix)\n",
    "\n",
    "tgt_mesh = o3d.io.read_triangle_mesh(\"G:\\PRo3D\\AI-Mars-3D\\Co-Registration\\packageGP\\m2020-zcam-kodiak\\source\\model_4b_kodiak_100m_zcam_scam.obj\")\n",
    "\n",
    "# Convert meshes to point clouds for registration\n",
    "tgt_pcd = tgt_mesh.sample_points_uniformly(number_of_points=1000000)\n",
    "tgt_pcd = tgt_pcd.voxel_down_sample(voxel_size=0.01)\n",
    "src_pcd = src_pcd.voxel_down_sample(voxel_size=0.01)\n",
    "\n",
    "#o3d.visualization.draw_geometries([tgt_pcd, src_pcd])\n",
    "\n",
    "# Compute normals for both point clouds\n",
    "# src_pcd.estimate_normals(search_param=o3d.geometry.KDTreeSearchParamHybrid(radius=0.1, max_nn=30))\n",
    "# tgt_pcd.estimate_normals(search_param=o3d.geometry.KDTreeSearchParamHybrid(radius=0.1, max_nn=30))\n",
    "\n",
    "# Define the pre-alignment (Helmert transformation)\n",
    "# pre_alignment = transformation_matrix\n",
    "\n",
    "# Apply the pre-alignment transformation to the TGT point cloud\n",
    "# tgt_pcd.transform(pre_alignment)\n",
    "\n",
    "# writePcdObj(\"src_pcd.obj\", src_pcd)\n",
    "# writePcdObj(\"tgt_pcd.obj\", tgt_pcd)\n",
    "\n",
    "# openFileInMeshlab(\"src_pcd.obj\")\n",
    "# openFileInMeshlab(\"tgt_pcd.obj\")\n",
    "\n",
    "# Perform fine registration using ICP\n",
    "icp_result = o3d.pipelines.registration.registration_icp(\n",
    "    tgt_pcd,\n",
    "    src_pcd,\n",
    "    max_correspondence_distance=1000.0,\n",
    "    init=np.eye(4),\n",
    "    estimation_method=o3d.pipelines.registration.TransformationEstimationPointToPoint(),\n",
    "    criteria=o3d.pipelines.registration.ICPConvergenceCriteria(max_iteration=200)\n",
    ")\n",
    "\n",
    "# # Print the transformation matrices\n",
    "# print(\"Pre-Alignment (Helmert) Transformation:\")\n",
    "# print(pre_alignment)\n",
    "\n",
    "print(\"\\nICP Refinement Transformation:\")\n",
    "print(icp_result.transformation)"
   ]
  },
  {
   "cell_type": "code",
   "execution_count": 40,
   "metadata": {},
   "outputs": [
    {
     "name": "stdout",
     "output_type": "stream",
     "text": [
      "MeshLab started successfully.\n"
     ]
    }
   ],
   "source": []
  },
  {
   "cell_type": "code",
   "execution_count": null,
   "metadata": {},
   "outputs": [],
   "source": [
    "# Apply final trafo to target surface\n",
    "tgt_surface_id = \"191cef90-bcbc-4acb-9318-ae11aa6355d4\"\n",
    "\n",
    "url = f\"http://localhost:4321/api/surfaces/{tgt_surface_id}/transform\"\n",
    "\n",
    "payload = {\n",
    "    \"forward\": icp_result.transformation.tolist()\n",
    "}\n",
    "\n",
    "headers = {\n",
    "    \"Content-Type\": \"application/json\"\n",
    "}\n",
    "\n",
    "response = requests.post(url, json=payload, headers=headers)\n",
    "response.raise_for_status() \n",
    "print(response.text)"
   ]
  },
  {
   "cell_type": "code",
   "execution_count": null,
   "metadata": {},
   "outputs": [],
   "source": [
    "# GREETING TEST\n",
    "\n",
    "# Define the URL and query parameters\n",
    "url = \"http://localhost:4322/api/exp/greet/Orti\"\n",
    "url = \"http://localhost:4322/api/exp/greet\"\n",
    "params = {\"name\": \"Orti\"}\n",
    "\n",
    "# Send a GET request to the Suave endpoint\n",
    "response = requests.get(url, params=params)\n",
    "\n",
    "# Check the response\n",
    "if response.status_code == 200:\n",
    "    print(f\"Response: {response.text}\")\n",
    "else:\n",
    "    print(f\"Error: {response.status_code}, Message: {response.text}\")"
   ]
  }
 ],
 "metadata": {
  "kernelspec": {
   "display_name": "open3d_env",
   "language": "python",
   "name": "python3"
  },
  "language_info": {
   "codemirror_mode": {
    "name": "ipython",
    "version": 3
   },
   "file_extension": ".py",
   "mimetype": "text/x-python",
   "name": "python",
   "nbconvert_exporter": "python",
   "pygments_lexer": "ipython3",
   "version": "3.9.21"
  },
  "orig_nbformat": 4
 },
 "nbformat": 4,
 "nbformat_minor": 2
}
