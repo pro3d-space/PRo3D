{
 "cells": [
  {
   "cell_type": "code",
   "execution_count": null,
   "metadata": {},
   "outputs": [],
   "source": [
    "!pip install websocket-client"
   ]
  },
  {
   "cell_type": "code",
   "execution_count": null,
   "metadata": {},
   "outputs": [],
   "source": [
    "import os\n",
    "import json\n",
    "import random\n",
    "import requests\n",
    "\n",
    "from ipyleaflet import Map, GeoJSON\n",
    "\n",
    "if not os.path.exists('europe_110.geo.json'):\n",
    "    url = 'https://github.com/jupyter-widgets/ipyleaflet/raw/master/examples/europe_110.geo.json'\n",
    "    r = requests.get(url)\n",
    "    with open('europe_110.geo.json', 'w') as f:\n",
    "        f.write(r.content.decode(\"utf-8\"))\n",
    "\n",
    "with open('europe_110.geo.json', 'r') as f:\n",
    "    data = json.load(f)\n",
    "\n",
    "def random_color(feature):\n",
    "    return {\n",
    "        'color': 'black',\n",
    "        'fillColor': random.choice(['red', 'yellow', 'green', 'orange']),\n",
    "    }\n",
    "\n",
    "m = Map(center=(50.6252978589571, 0.34580993652344), zoom=3)\n",
    "\n",
    "geo_json = GeoJSON(\n",
    "    data=data,\n",
    "    style={\n",
    "        'opacity': 1, 'dashArray': '9', 'fillOpacity': 0.1, 'weight': 1\n",
    "    },\n",
    "    hover_style={\n",
    "        'color': 'white', 'dashArray': '0', 'fillOpacity': 0.5\n",
    "    },\n",
    "    style_callback=random_color\n",
    ")\n",
    "m.add_layer(geo_json)\n",
    "\n",
    "m"
   ]
  },
  {
   "cell_type": "code",
   "execution_count": 23,
   "metadata": {},
   "outputs": [
    {
     "data": {
      "application/vnd.jupyter.widget-view+json": {
       "model_id": "44cccef5ef114f4f823ed8fc65a46072",
       "version_major": 2,
       "version_minor": 0
      },
      "text/plain": [
       "Map(center=[-2.04694183792199, 354.505873462974], controls=(ZoomControl(options=['position', 'zoom_in_text', '…"
      ]
     },
     "metadata": {},
     "output_type": "display_data"
    }
   ],
   "source": [
    "import os\n",
    "import json\n",
    "import random\n",
    "import requests\n",
    "\n",
    "from ipyleaflet import Map, GeoJSON, TileLayer\n",
    "\n",
    "url = \"https://cartocdn-gusc.global.ssl.fastly.net/opmbuilder/api/v1/map/named/opm-mars-basemap-v0-1/all/{z}/{x}/{y}.png\" \n",
    "provider = TileLayer(url=url, zoom=3, tms=False)\n",
    "\n",
    "url = \"http://s3-eu-west-1.amazonaws.com/whereonmars.cartodb.net/celestia_mars-shaded-16k_global/{z}/{x}/{y}.png\" \n",
    "hirise = TileLayer(url=url, zoom=3,  tms=True)\n",
    "\n",
    "m = Map(center=(-2.04694183792199, 354.505873462974), zoom=3)\n",
    "#m.add_layer(provider)\n",
    "#m.add_layer(hirise)\n",
    "m"
   ]
  },
  {
   "cell_type": "code",
   "execution_count": 19,
   "metadata": {},
   "outputs": [
    {
     "name": "stdout",
     "output_type": "stream",
     "text": [
      "{'geometries': [{'coordinates': [[-2.02335898044766, 354.490557290681, -2016.07439950911], [-2.05723682043148, 354.478648248411, -2017.44387354697]], 'type': 'LineString'}, {'coordinates': [[-2.05479945570688, 354.464955302623, -2025.89080756544], [-2.02424466627644, 354.484151073537, -2012.50608908448]], 'type': 'LineString'}, {'coordinates': [[-2.02353834234429, 354.482720954918, -2013.0173775663]], 'type': 'LineString'}], 'type': 'GeometryCollection'}\n"
     ]
    },
    {
     "data": {
      "text/plain": [
       "b'{\\n  \"geometries\": [\\n    {\\n      \"coordinates\": [\\n        [\\n          -2.02335898044766,\\n          354.490557290681,\\n          -2016.07439950911\\n        ],\\n        [\\n          -2.05723682043148,\\n          354.478648248411,\\n          -2017.44387354697\\n        ]\\n      ],\\n      \"type\": \"LineString\"\\n    },\\n    {\\n      \"coordinates\": [\\n        [\\n          -2.05479945570688,\\n          354.464955302623,\\n          -2025.89080756544\\n        ],\\n        [\\n          -2.02424466627644,\\n          354.484151073537,\\n          -2012.50608908448\\n        ]\\n      ],\\n      \"type\": \"LineString\"\\n    },\\n    {\\n      \"coordinates\": [\\n        [\\n          -2.02353834234429,\\n          354.482720954918,\\n          -2013.0173775663\\n        ]\\n      ],\\n      \"type\": \"LineString\"\\n    }\\n  ],\\n  \"type\": \"GeometryCollection\"\\n}'"
      ]
     },
     "execution_count": 19,
     "metadata": {},
     "output_type": "execute_result"
    }
   ],
   "source": [
    "import json\n",
    "r = requests.get('http://localhost:4321/api/integration/geojson_latlon')\n",
    "print(json.loads(r.content))\n",
    "m.center = (-2.04694183792199, 354.505873462974)\n",
    "m.zoom=18\n",
    "r.content"
   ]
  },
  {
   "cell_type": "code",
   "execution_count": 24,
   "metadata": {},
   "outputs": [
    {
     "name": "stdout",
     "output_type": "stream",
     "text": [
      "Opened connection\n",
      "Jdsjd\n",
      "doit\n",
      "{'geometries': [{'coordinates': [[-2.02335898044766, 354.490557290681, -2016.07439950911], [-2.05723682043148, 354.478648248411, -2017.44387354697]], 'type': 'LineString'}, {'coordinates': [[-2.05479945570688, 354.464955302623, -2025.89080756544], [-2.02424466627644, 354.484151073537, -2012.50608908448]], 'type': 'LineString'}, {'coordinates': [[-2.02353834234429, 354.482720954918, -2013.0173775663]], 'type': 'LineString'}, {'coordinates': [[-2.03474829195083, 354.487364579821, -2013.23558926354], [-2.03251016210663, 354.482455813633, -2014.04769256488]], 'type': 'LineString'}, {'coordinates': [[-2.01923211082753, 354.474881627473, -2017.89458887325]], 'type': 'LineString'}, {'coordinates': [[-2.03866428835667, 354.478039722183, -2016.24412040495], [-2.03248568747887, 354.478962220847, -2014.29381061419]], 'type': 'LineString'}, {'coordinates': [[-2.02723984827085, 354.478288195918, -2012.42299444633]], 'type': 'LineString'}, {'coordinates': [[-2.03947387839454, 354.482170079467, -2013.03473994808], [-2.02724605208596, 354.478718725762, -2012.30024926932]], 'type': 'LineString'}], 'type': 'GeometryCollection'}\n",
      "Jdsjd\n",
      "doit\n",
      "{'geometries': [{'coordinates': [[-2.02335898044766, 354.490557290681, -2016.07439950911], [-2.05723682043148, 354.478648248411, -2017.44387354697]], 'type': 'LineString'}, {'coordinates': [[-2.05479945570688, 354.464955302623, -2025.89080756544], [-2.02424466627644, 354.484151073537, -2012.50608908448]], 'type': 'LineString'}, {'coordinates': [[-2.03263942158905, 354.481547517229, -2014.12427587176]], 'type': 'LineString'}, {'coordinates': [[-2.04878962373462, 354.482468151576, -2015.31245555595], [-2.04010030541698, 354.485505079354, -2012.32481996902]], 'type': 'LineString'}, {'coordinates': [[-2.02353834234429, 354.482720954918, -2013.0173775663]], 'type': 'LineString'}, {'coordinates': [[-2.03474829195083, 354.487364579821, -2013.23558926354], [-2.03251016210663, 354.482455813633, -2014.04769256488]], 'type': 'LineString'}, {'coordinates': [[-2.01923211082753, 354.474881627473, -2017.89458887325]], 'type': 'LineString'}, {'coordinates': [[-2.03866428835667, 354.478039722183, -2016.24412040495], [-2.03248568747887, 354.478962220847, -2014.29381061419]], 'type': 'LineString'}, {'coordinates': [[-2.02723984827085, 354.478288195918, -2012.42299444633]], 'type': 'LineString'}, {'coordinates': [[-2.03947387839454, 354.482170079467, -2013.03473994808], [-2.02724605208596, 354.478718725762, -2012.30024926932]], 'type': 'LineString'}], 'type': 'GeometryCollection'}\n",
      "Jdsjd\n",
      "doit\n",
      "{'geometries': [{'coordinates': [[-2.02335898044766, 354.490557290681, -2016.07439950911], [-2.05723682043148, 354.478648248411, -2017.44387354697]], 'type': 'LineString'}, {'coordinates': [[-2.05479945570688, 354.464955302623, -2025.89080756544], [-2.02424466627644, 354.484151073537, -2012.50608908448]], 'type': 'LineString'}, {'coordinates': [[-2.03263942158905, 354.481547517229, -2014.12427587176]], 'type': 'LineString'}, {'coordinates': [[-2.04878962373462, 354.482468151576, -2015.31245555595], [-2.04010030541698, 354.485505079354, -2012.32481996902]], 'type': 'LineString'}, {'coordinates': [[-2.02353834234429, 354.482720954918, -2013.0173775663]], 'type': 'LineString'}, {'coordinates': [[-2.03474829195083, 354.487364579821, -2013.23558926354], [-2.03251016210663, 354.482455813633, -2014.04769256488]], 'type': 'LineString'}, {'coordinates': [[-2.01923211082753, 354.474881627473, -2017.89458887325]], 'type': 'LineString'}, {'coordinates': [[-2.03866428835667, 354.478039722183, -2016.24412040495], [-2.03248568747887, 354.478962220847, -2014.29381061419]], 'type': 'LineString'}, {'coordinates': [[-2.02723984827085, 354.478288195918, -2012.42299444633]], 'type': 'LineString'}, {'coordinates': [[-2.03947387839454, 354.482170079467, -2013.03473994808], [-2.02724605208596, 354.478718725762, -2012.30024926932]], 'type': 'LineString'}], 'type': 'GeometryCollection'}\n"
     ]
    }
   ],
   "source": [
    "import websocket\n",
    "import _thread\n",
    "import time\n",
    "import json\n",
    "\n",
    "\n",
    "\n",
    "def on_message(ws, message):\n",
    "    global geo_json\n",
    "    print(\"Jdsjd\")\n",
    "    r = json.loads(requests.get('http://localhost:4321/api/integration/geojson_latlon').content)\n",
    "    f = open(\"F:\\\\pro3d\\\\PRo3D\\\\src\\\\Tests\\\\test.geo.json\", 'r') \n",
    "    d = json.load(f)\n",
    "    print(\"doit\")\n",
    "    print(r)\n",
    "    m.center = (-2.04694183792199, 354.505873462974)\n",
    "    geo_json2 = GeoJSON(\n",
    "        data=d\n",
    "    )\n",
    "    m.add_layer(geo_json2)\n",
    "    #m.remove_layer(geo_json)\n",
    "    geo_json = geo_json2\n",
    "    ws.send(\"blub\")\n",
    "\n",
    "def on_error(ws, error):\n",
    "    print(error)\n",
    "\n",
    "def on_close(ws, close_status_code, close_msg):\n",
    "    print(\"### closed ###\")\n",
    "\n",
    "def on_open(ws):\n",
    "    print(\"Opened connection\")\n",
    "\n",
    "\n",
    "\n",
    "ws = websocket.WebSocketApp(\"ws://localhost:4321/api/integration/ws/geojson_xyz\",\n",
    "                            on_open=on_open,\n",
    "                            on_message=on_message,\n",
    "                            on_error=on_error,\n",
    "                            on_close=on_close)\n",
    "\n",
    "ws.run_forever()  "
   ]
  }
 ],
 "metadata": {
  "kernelspec": {
   "display_name": "Python 3",
   "language": "python",
   "name": "python3"
  },
  "language_info": {
   "codemirror_mode": {
    "name": "ipython",
    "version": 3
   },
   "file_extension": ".py",
   "mimetype": "text/x-python",
   "name": "python",
   "nbconvert_exporter": "python",
   "pygments_lexer": "ipython3",
   "version": "3.7.8"
  },
  "orig_nbformat": 4
 },
 "nbformat": 4,
 "nbformat_minor": 2
}
