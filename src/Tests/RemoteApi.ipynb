{
 "cells": [
  {
   "cell_type": "code",
   "execution_count": null,
   "metadata": {},
   "outputs": [],
   "source": [
    "!pip install websocket-client"
   ]
  },
  {
   "cell_type": "code",
   "execution_count": null,
   "metadata": {},
   "outputs": [],
   "source": [
    "import os\n",
    "import json\n",
    "import random\n",
    "import requests\n",
    "\n",
    "from ipyleaflet import Map, GeoJSON, TileLayer\n",
    "\n",
    "basemapUrl = \"https://cartocdn-gusc.global.ssl.fastly.net/opmbuilder/api/v1/map/named/opm-mars-basemap-v0-1/all/{z}/{x}/{y}.png\" \n",
    "basemap = TileLayer(url=basemapUrl, zoom=3, tms=False)\n",
    "\n",
    "hiriseUrl = \"http://s3-eu-west-1.amazonaws.com/whereonmars.cartodb.net/celestia_mars-shaded-16k_global/{z}/{x}/{y}.png\" \n",
    "hirise = TileLayer(url=hiriseUrl, zoom=3,  tms=True)\n",
    "\n",
    "vikingUrl = \"http://s3-eu-west-1.amazonaws.com/whereonmars.cartodb.net/viking_mdim21_global/{z}/{x}/{y}.png\"\n",
    "viking = TileLayer(url=vikingUrl, zoom=3, tms=True)\n",
    "\n",
    "m = Map(zoom=3)\n",
    "m.add_layer(basemap)\n",
    "m.add_layer(hirise)\n",
    "m.add_layer(viking)\n",
    "m"
   ]
  },
  {
   "cell_type": "code",
   "execution_count": null,
   "metadata": {},
   "outputs": [],
   "source": [
    "import json\n",
    "annotationsAsString = requests.get('http://localhost:4321/api/integration/geojson_latlon').content\n",
    "annotations = json.loads(annotationsAsString)\n",
    "print(annotations)\n",
    "def random_color(feature):\n",
    "    return {\n",
    "        'color': 'black',\n",
    "        'fillColor': random.choice(['red', 'yellow', 'green', 'orange']),\n",
    "    }\n",
    "\n",
    "m.center = (-2.04694183792199, -5.4913)\n",
    "geo_json = GeoJSON(\n",
    "    data=annotations,\n",
    "    style={\n",
    "        'opacity': 1, 'dashArray': '9', 'fillOpacity': 0.1, 'weight': 1\n",
    "    },\n",
    "    hover_style={\n",
    "        'color': 'white', 'dashArray': '0', 'fillOpacity': 0.5\n",
    "    },\n",
    "    style_callback=random_color\n",
    ")\n",
    "m.add_layer(geo_json)\n",
    "\n",
    "class Annotations:\n",
    "  layer = None\n",
    "\n",
    "\n",
    "annotations = Annotations()\n",
    "annotations.layer = 10\n",
    "\n"
   ]
  },
  {
   "cell_type": "code",
   "execution_count": null,
   "metadata": {},
   "outputs": [],
   "source": [
    "import websocket\n",
    "import _thread\n",
    "import time\n",
    "import json\n",
    "\n",
    "def on_message(ws, message):\n",
    "    print(\"received incremental annotation lookup\")\n",
    "    # for now, we fetch the whole list of annotations\n",
    "    annotations = json.loads(requests.get('http://localhost:4321/api/integration/geojson_latlon').content)\n",
    "    geo_json2 = GeoJSON(\n",
    "        data = annotations\n",
    "    )\n",
    "    m.add_layer(geo_json2)\n",
    "    m.remove_layer(geo_json)\n",
    "\n",
    "    geo_json = geo_json2\n",
    "    # tell pro3d that we processed the data\n",
    "    ws.send(\"blub\")\n",
    "\n",
    "def on_error(ws, error):\n",
    "    print(error)\n",
    "\n",
    "def on_close(ws, close_status_code, close_msg):\n",
    "    print(\"### closed ###\")\n",
    "\n",
    "def on_open(ws):\n",
    "    print(\"Opened connection\")\n",
    "\n",
    "\n",
    "\n",
    "ws = websocket.WebSocketApp(\"ws://localhost:4321/api/integration/ws/geojson_xyz\",\n",
    "                            on_open=on_open,\n",
    "                            on_message=on_message,\n",
    "                            on_error=on_error,\n",
    "                            on_close=on_close)\n",
    "\n",
    "ws.run_forever()  "
   ]
  },
  {
   "cell_type": "code",
   "execution_count": 1,
   "metadata": {},
   "outputs": [],
   "source": [
    "\n"
   ]
  },
  {
   "cell_type": "code",
   "execution_count": 3,
   "metadata": {},
   "outputs": [
    {
     "name": "stdout",
     "output_type": "stream",
     "text": [
      "10\n",
      "10\n",
      "10000\n"
     ]
    }
   ],
   "source": [
    "\n",
    "def gh():\n",
    "    print(annotations.layer)\n",
    "    annotations.layer = 10000\n",
    "\n",
    "\n",
    "print(annotations.layer)\n",
    "\n",
    "gh()\n",
    "\n",
    "print(annotations.layer)"
   ]
  }
 ],
 "metadata": {
  "kernelspec": {
   "display_name": "Python 3",
   "language": "python",
   "name": "python3"
  },
  "language_info": {
   "codemirror_mode": {
    "name": "ipython",
    "version": 3
   },
   "file_extension": ".py",
   "mimetype": "text/x-python",
   "name": "python",
   "nbconvert_exporter": "python",
   "pygments_lexer": "ipython3",
   "version": "3.7.8"
  },
  "orig_nbformat": 4
 },
 "nbformat": 4,
 "nbformat_minor": 2
}
