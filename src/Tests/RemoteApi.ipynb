{
 "cells": [
  {
   "cell_type": "code",
   "execution_count": 1,
   "metadata": {},
   "outputs": [
    {
     "name": "stdout",
     "output_type": "stream",
     "text": [
      "Requirement already satisfied: websocket-client in c:\\users\\hs\\appdata\\local\\programs\\python\\python37\\lib\\site-packages (1.5.1)\n"
     ]
    },
    {
     "name": "stderr",
     "output_type": "stream",
     "text": [
      "WARNING: You are using pip version 20.1.1; however, version 23.1.2 is available.\n",
      "You should consider upgrading via the 'c:\\users\\hs\\appdata\\local\\programs\\python\\python37\\python.exe -m pip install --upgrade pip' command.\n"
     ]
    },
    {
     "name": "stdout",
     "output_type": "stream",
     "text": [
      "Requirement already satisfied: rel in c:\\users\\hs\\appdata\\local\\programs\\python\\python37\\lib\\site-packages (0.4.8)\n"
     ]
    },
    {
     "name": "stderr",
     "output_type": "stream",
     "text": [
      "WARNING: You are using pip version 20.1.1; however, version 23.1.2 is available.\n",
      "You should consider upgrading via the 'c:\\users\\hs\\appdata\\local\\programs\\python\\python37\\python.exe -m pip install --upgrade pip' command.\n"
     ]
    }
   ],
   "source": [
    "!pip install websocket-client\n",
    "!pip install rel"
   ]
  },
  {
   "cell_type": "code",
   "execution_count": 5,
   "metadata": {},
   "outputs": [
    {
     "data": {
      "application/vnd.jupyter.widget-view+json": {
       "model_id": "266f9f27ddbe496ca61ff6e6fa91fee0",
       "version_major": 2,
       "version_minor": 0
      },
      "text/plain": [
       "Map(center=[0.0, 0.0], controls=(ZoomControl(options=['position', 'zoom_in_text', 'zoom_in_title', 'zoom_out_t…"
      ]
     },
     "metadata": {},
     "output_type": "display_data"
    }
   ],
   "source": [
    "import os\n",
    "import json\n",
    "import random\n",
    "import requests\n",
    "import websocket\n",
    "import _thread\n",
    "import time\n",
    "import json\n",
    "import rel\n",
    "from ipyleaflet import Map, GeoJSON, TileLayer\n",
    "\n",
    "basemapUrl = \"https://cartocdn-gusc.global.ssl.fastly.net/opmbuilder/api/v1/map/named/opm-mars-basemap-v0-1/all/{z}/{x}/{y}.png\" \n",
    "basemap = TileLayer(url=basemapUrl, zoom=3, tms=False)\n",
    "\n",
    "hiriseUrl = \"http://s3-eu-west-1.amazonaws.com/whereonmars.cartodb.net/celestia_mars-shaded-16k_global/{z}/{x}/{y}.png\" \n",
    "hirise = TileLayer(url=hiriseUrl, zoom=3,  tms=True)\n",
    "\n",
    "vikingUrl = \"http://s3-eu-west-1.amazonaws.com/whereonmars.cartodb.net/viking_mdim21_global/{z}/{x}/{y}.png\"\n",
    "viking = TileLayer(url=vikingUrl, zoom=3, tms=True)\n",
    "\n",
    "m = Map(zoom=3)\n",
    "m.add_layer(basemap)\n",
    "m.add_layer(hirise)\n",
    "m.add_layer(viking)\n",
    "\n",
    "def projectToGround(a):\n",
    "   a[\"geometry\"][\"coordinates\"] = [ [c[0], c[1]] for c in a[\"geometry\"][\"coordinates\"]][0]\n",
    "   return a\n",
    "\n",
    "\n",
    "def normalizePointAnnotations(annotations):\n",
    "   annotations[\"features\"] = [ projectToGround(a) for a in annotations[\"features\"] if a[\"geometry\"][\"type\"] == \"Point\"]\n",
    "   return annotations\n",
    "\n",
    "def random_color(feature):\n",
    "    return {\n",
    "        'color': 'black',\n",
    "        'fillColor': random.choice(['red', 'yellow', 'green', 'orange']),\n",
    "    }\n",
    "\n",
    "class Annotations:\n",
    "  def __init___(self):\n",
    "     self.__layer = \"JDJ\"\n",
    "  \n",
    "  def set_layer(self,v):\n",
    "     print(\"A)\")\n",
    "     print(self.__layer)\n",
    "     m.remove_layer(self.__layer)\n",
    "     print(\"C\")\n",
    "     m.add_layer(v)\n",
    "     print(\"B)\")\n",
    "     self.__layer = v\n",
    "\n",
    "\n",
    "annotations = Annotations()\n",
    "\n",
    "def attachToPRo3D():\n",
    "    def on_message(ws, message):\n",
    "        print(\"received incremental annotation lookup\")\n",
    "        # for now, we fetch the whole list of annotations\n",
    "        currentAnnotations = json.loads(requests.get('http://localhost:4321/api/integration/geojson_latlon').content)\n",
    "        geo_json = GeoJSON(\n",
    "            data = normalizePointAnnotations(currentAnnotations)\n",
    "        )\n",
    "        annotations.set_layer(geo_json)\n",
    "        ws.send(\"blub\")\n",
    "\n",
    "    def on_error(ws, error):\n",
    "        print(error)\n",
    "\n",
    "    def on_close(ws, close_status_code, close_msg):\n",
    "        print(\"### closed ###\")\n",
    "\n",
    "    def on_open(ws):\n",
    "        print(\"Opened connection\")\n",
    "\n",
    "\n",
    "\n",
    "    ws = websocket.WebSocketApp(\"ws://localhost:4321/api/integration/ws/geojson_xyz\",\n",
    "                                on_open=on_open,\n",
    "                                on_message=on_message,\n",
    "                                on_error=on_error,\n",
    "                                on_close=on_close)\n",
    "\n",
    "    ws.run_forever(dispatcher=rel, reconnect=1)\n",
    "    rel.signal(2, rel.abort)\n",
    "    rel.dispatch()  \n",
    "\n",
    "\n",
    "def queryPRo3D():\n",
    "   annotationsAsString = requests.get('http://localhost:4321/api/integration/geojson_latlon').content\n",
    "   currentAnnotations = json.loads(annotationsAsString)\n",
    "\n",
    "   m.center = (-2.04694183792199, -5.4913)\n",
    "   geo_json = GeoJSON(\n",
    "       data=normalizePointAnnotations(currentAnnotations),\n",
    "       style={\n",
    "           'opacity': 1, 'dashArray': '9', 'fillOpacity': 0.1, 'weight': 1\n",
    "       },\n",
    "       hover_style={\n",
    "           'color': 'white', 'dashArray': '0', 'fillOpacity': 0.5\n",
    "       },\n",
    "       style_callback=random_color\n",
    "   )\n",
    "   m.add_layer(geo_json)\n",
    "\n",
    "m"
   ]
  },
  {
   "cell_type": "code",
   "execution_count": 5,
   "metadata": {},
   "outputs": [],
   "source": [
    "queryPRo3D()"
   ]
  },
  {
   "cell_type": "code",
   "execution_count": 6,
   "metadata": {},
   "outputs": [
    {
     "name": "stdout",
     "output_type": "stream",
     "text": [
      "Opened connection\n",
      "received incremental annotation lookup\n",
      "A)\n",
      "'Annotations' object has no attribute '_Annotations__layer'\n"
     ]
    }
   ],
   "source": [
    "attachToPRo3D()"
   ]
  }
 ],
 "metadata": {
  "kernelspec": {
   "display_name": "Python 3",
   "language": "python",
   "name": "python3"
  },
  "language_info": {
   "codemirror_mode": {
    "name": "ipython",
    "version": 3
   },
   "file_extension": ".py",
   "mimetype": "text/x-python",
   "name": "python",
   "nbconvert_exporter": "python",
   "pygments_lexer": "ipython3",
   "version": "3.7.8"
  },
  "orig_nbformat": 4
 },
 "nbformat": 4,
 "nbformat_minor": 2
}
