{
 "cells": [
  {
   "cell_type": "code",
   "execution_count": 1,
   "metadata": {},
   "outputs": [
    {
     "name": "stdout",
     "output_type": "stream",
     "text": [
      "Jupyter environment detected. Enabling Open3D WebVisualizer.\n",
      "[Open3D INFO] WebRTC GUI backend enabled.\n",
      "[Open3D INFO] WebRTCWindowSystem: HTTP handshake server disabled.\n"
     ]
    }
   ],
   "source": [
    "# imports\n",
    "from typing import Any\n",
    "\n",
    "import requests\n",
    "import json\n",
    "\n",
    "import open3d as o3d\n",
    "import numpy as np\n",
    "\n",
    "import subprocess"
   ]
  },
  {
   "cell_type": "code",
   "execution_count": null,
   "metadata": {},
   "outputs": [
    {
     "ename": "JSONDecodeError",
     "evalue": "Expecting value: line 1 column 1 (char 0)",
     "output_type": "error",
     "traceback": [
      "\u001b[1;31m---------------------------------------------------------------------------\u001b[0m",
      "\u001b[1;31mJSONDecodeError\u001b[0m                           Traceback (most recent call last)",
      "Cell \u001b[1;32mIn[15], line 4\u001b[0m\n\u001b[0;32m      2\u001b[0m url \u001b[38;5;241m=\u001b[39m \u001b[38;5;124m\"\u001b[39m\u001b[38;5;124mhttp://localhost:4321/api/annotations//selected/points\u001b[39m\u001b[38;5;124m\"\u001b[39m\n\u001b[0;32m      3\u001b[0m response \u001b[38;5;241m=\u001b[39m requests\u001b[38;5;241m.\u001b[39mget(url)\n\u001b[1;32m----> 4\u001b[0m \u001b[38;5;28mid\u001b[39m \u001b[38;5;241m=\u001b[39m \u001b[43mjson\u001b[49m\u001b[38;5;241;43m.\u001b[39;49m\u001b[43mloads\u001b[49m\u001b[43m(\u001b[49m\u001b[43mresponse\u001b[49m\u001b[38;5;241;43m.\u001b[39;49m\u001b[43mtext\u001b[49m\u001b[43m)\u001b[49m[\u001b[38;5;241m0\u001b[39m]\n\u001b[0;32m      5\u001b[0m \u001b[38;5;28mprint\u001b[39m(\u001b[38;5;28mid\u001b[39m)\n",
      "File \u001b[1;32mc:\\Users\\thomas.ortner\\AppData\\Local\\anaconda3\\envs\\PRo3D_coreg\\Lib\\json\\__init__.py:346\u001b[0m, in \u001b[0;36mloads\u001b[1;34m(s, cls, object_hook, parse_float, parse_int, parse_constant, object_pairs_hook, **kw)\u001b[0m\n\u001b[0;32m    341\u001b[0m     s \u001b[38;5;241m=\u001b[39m s\u001b[38;5;241m.\u001b[39mdecode(detect_encoding(s), \u001b[38;5;124m'\u001b[39m\u001b[38;5;124msurrogatepass\u001b[39m\u001b[38;5;124m'\u001b[39m)\n\u001b[0;32m    343\u001b[0m \u001b[38;5;28;01mif\u001b[39;00m (\u001b[38;5;28mcls\u001b[39m \u001b[38;5;129;01mis\u001b[39;00m \u001b[38;5;28;01mNone\u001b[39;00m \u001b[38;5;129;01mand\u001b[39;00m object_hook \u001b[38;5;129;01mis\u001b[39;00m \u001b[38;5;28;01mNone\u001b[39;00m \u001b[38;5;129;01mand\u001b[39;00m\n\u001b[0;32m    344\u001b[0m         parse_int \u001b[38;5;129;01mis\u001b[39;00m \u001b[38;5;28;01mNone\u001b[39;00m \u001b[38;5;129;01mand\u001b[39;00m parse_float \u001b[38;5;129;01mis\u001b[39;00m \u001b[38;5;28;01mNone\u001b[39;00m \u001b[38;5;129;01mand\u001b[39;00m\n\u001b[0;32m    345\u001b[0m         parse_constant \u001b[38;5;129;01mis\u001b[39;00m \u001b[38;5;28;01mNone\u001b[39;00m \u001b[38;5;129;01mand\u001b[39;00m object_pairs_hook \u001b[38;5;129;01mis\u001b[39;00m \u001b[38;5;28;01mNone\u001b[39;00m \u001b[38;5;129;01mand\u001b[39;00m \u001b[38;5;129;01mnot\u001b[39;00m kw):\n\u001b[1;32m--> 346\u001b[0m     \u001b[38;5;28;01mreturn\u001b[39;00m \u001b[43m_default_decoder\u001b[49m\u001b[38;5;241;43m.\u001b[39;49m\u001b[43mdecode\u001b[49m\u001b[43m(\u001b[49m\u001b[43ms\u001b[49m\u001b[43m)\u001b[49m\n\u001b[0;32m    347\u001b[0m \u001b[38;5;28;01mif\u001b[39;00m \u001b[38;5;28mcls\u001b[39m \u001b[38;5;129;01mis\u001b[39;00m \u001b[38;5;28;01mNone\u001b[39;00m:\n\u001b[0;32m    348\u001b[0m     \u001b[38;5;28mcls\u001b[39m \u001b[38;5;241m=\u001b[39m JSONDecoder\n",
      "File \u001b[1;32mc:\\Users\\thomas.ortner\\AppData\\Local\\anaconda3\\envs\\PRo3D_coreg\\Lib\\json\\decoder.py:338\u001b[0m, in \u001b[0;36mJSONDecoder.decode\u001b[1;34m(self, s, _w)\u001b[0m\n\u001b[0;32m    333\u001b[0m \u001b[38;5;28;01mdef\u001b[39;00m\u001b[38;5;250m \u001b[39m\u001b[38;5;21mdecode\u001b[39m(\u001b[38;5;28mself\u001b[39m, s, _w\u001b[38;5;241m=\u001b[39mWHITESPACE\u001b[38;5;241m.\u001b[39mmatch):\n\u001b[0;32m    334\u001b[0m \u001b[38;5;250m    \u001b[39m\u001b[38;5;124;03m\"\"\"Return the Python representation of ``s`` (a ``str`` instance\u001b[39;00m\n\u001b[0;32m    335\u001b[0m \u001b[38;5;124;03m    containing a JSON document).\u001b[39;00m\n\u001b[0;32m    336\u001b[0m \n\u001b[0;32m    337\u001b[0m \u001b[38;5;124;03m    \"\"\"\u001b[39;00m\n\u001b[1;32m--> 338\u001b[0m     obj, end \u001b[38;5;241m=\u001b[39m \u001b[38;5;28;43mself\u001b[39;49m\u001b[38;5;241;43m.\u001b[39;49m\u001b[43mraw_decode\u001b[49m\u001b[43m(\u001b[49m\u001b[43ms\u001b[49m\u001b[43m,\u001b[49m\u001b[43m \u001b[49m\u001b[43midx\u001b[49m\u001b[38;5;241;43m=\u001b[39;49m\u001b[43m_w\u001b[49m\u001b[43m(\u001b[49m\u001b[43ms\u001b[49m\u001b[43m,\u001b[49m\u001b[43m \u001b[49m\u001b[38;5;241;43m0\u001b[39;49m\u001b[43m)\u001b[49m\u001b[38;5;241;43m.\u001b[39;49m\u001b[43mend\u001b[49m\u001b[43m(\u001b[49m\u001b[43m)\u001b[49m\u001b[43m)\u001b[49m\n\u001b[0;32m    339\u001b[0m     end \u001b[38;5;241m=\u001b[39m _w(s, end)\u001b[38;5;241m.\u001b[39mend()\n\u001b[0;32m    340\u001b[0m     \u001b[38;5;28;01mif\u001b[39;00m end \u001b[38;5;241m!=\u001b[39m \u001b[38;5;28mlen\u001b[39m(s):\n",
      "File \u001b[1;32mc:\\Users\\thomas.ortner\\AppData\\Local\\anaconda3\\envs\\PRo3D_coreg\\Lib\\json\\decoder.py:356\u001b[0m, in \u001b[0;36mJSONDecoder.raw_decode\u001b[1;34m(self, s, idx)\u001b[0m\n\u001b[0;32m    354\u001b[0m     obj, end \u001b[38;5;241m=\u001b[39m \u001b[38;5;28mself\u001b[39m\u001b[38;5;241m.\u001b[39mscan_once(s, idx)\n\u001b[0;32m    355\u001b[0m \u001b[38;5;28;01mexcept\u001b[39;00m \u001b[38;5;167;01mStopIteration\u001b[39;00m \u001b[38;5;28;01mas\u001b[39;00m err:\n\u001b[1;32m--> 356\u001b[0m     \u001b[38;5;28;01mraise\u001b[39;00m JSONDecodeError(\u001b[38;5;124m\"\u001b[39m\u001b[38;5;124mExpecting value\u001b[39m\u001b[38;5;124m\"\u001b[39m, s, err\u001b[38;5;241m.\u001b[39mvalue) \u001b[38;5;28;01mfrom\u001b[39;00m\u001b[38;5;250m \u001b[39m\u001b[38;5;28;01mNone\u001b[39;00m\n\u001b[0;32m    357\u001b[0m \u001b[38;5;28;01mreturn\u001b[39;00m obj, end\n",
      "\u001b[1;31mJSONDecodeError\u001b[0m: Expecting value: line 1 column 1 (char 0)"
     ]
    }
   ],
   "source": [
    "# get the id of the first annotation\n",
    "url = \"http://localhost:4321/api/annotations/selected/points\"\n",
    "response = requests.get(url)\n",
    "id = json.loads(response.text)[0]\n",
    "print(id)"
   ]
  },
  {
   "cell_type": "code",
   "execution_count": null,
   "metadata": {},
   "outputs": [],
   "source": [
    "# --- helper functions ---\n",
    "def applyTrafoToSurface(port: int, surface_id: str, transformation_matrix: np.ndarray) -> None:\n",
    "    \"\"\"\n",
    "    Applies a transformation matrix to the surface with the given ID using an HTTP PUT request.\n",
    "    \n",
    "    Args:\n",
    "        port (int): The port number of the API server.\n",
    "        surface_id (str): The unique identifier of the surface.\n",
    "        transformation_matrix (np.ndarray): A 2D NumPy array representing the transformation matrix.\n",
    "    \"\"\"\n",
    "    url = f\"http://localhost:{port}/api/surfaces/{surface_id}/transformation\"\n",
    "\n",
    "    payload: dict[str, Any] = {\n",
    "        \"forward\": transformation_matrix.tolist()\n",
    "    }\n",
    "\n",
    "    headers: dict[str, str]= {\n",
    "        \"Content-Type\": \"application/json\"\n",
    "    }\n",
    "\n",
    "    response = requests.put(url, json=payload, headers=headers)\n",
    "    response.raise_for_status() \n",
    "    print(response.text)    \n",
    "\n",
    "def writePcdObj (outputFile, pcd) -> None:\n",
    "    \"\"\"\n",
    "    Writes a point cloud to a .pcd and .obj file.\n",
    "    \"\"\"\n",
    "    with open(outputFile, \"w\") as f:\n",
    "        for point in pcd.points:\n",
    "            f.write(f\"v {point[0]} {point[1]} {point[2]}\\n\")\n",
    "\n",
    "def openFileInMeshlab (file) -> None:\n",
    "    \"\"\"\n",
    "    Opens a file in Meshlab.\n",
    "    \"\"\"\n",
    "    # open cutout in MeshLab\n",
    "    try:\n",
    "        subprocess.Popen([\"C:/Program Files/vcg/MeshLab/meshlab.exe\", file])\n",
    "        print(\"MeshLab started successfully.\")\n",
    "    except FileNotFoundError:\n",
    "        print(\"MeshLab executable not found. Please ensure it is installed and in your system PATH.\")\n"
   ]
  },
  {
   "cell_type": "code",
   "execution_count": null,
   "metadata": {},
   "outputs": [],
   "source": [
    "tgt_points_id = \"3d87d707-5735-4d7d-a401-679ae2a748b5\"\n",
    "src_points_id = \"4b854809-1601-4e7e-aa78-85aa19fa43d3\"\n",
    "\n",
    "url = \"http://localhost:4322/api/annotations/3d87d707-5735-4d7d-a401-679ae2a748b5/points\"\n",
    "\n",
    "response = requests.get(url)\n",
    "tgt_points = np.array(json.loads(response.text))\n",
    "\n",
    "print(f\"tgt points: {tgt_points}\")\n",
    "\n",
    "url = \"http://localhost:4321/api/annotations/4b854809-1601-4e7e-aa78-85aa19fa43d3/points\"\n",
    "\n",
    "response = requests.get(url)\n",
    "src_points = np.array(json.loads(response.text))\n",
    "\n",
    "print(f\"src points: {src_points}\")\n"
   ]
  },
  {
   "cell_type": "code",
   "execution_count": null,
   "metadata": {},
   "outputs": [],
   "source": [
    "# Convert numpy arrays to Open3D PointClouds\n",
    "source_pcd = o3d.geometry.PointCloud()\n",
    "source_pcd.points = o3d.utility.Vector3dVector(src_points)\n",
    "\n",
    "target_pcd = o3d.geometry.PointCloud()\n",
    "target_pcd.points = o3d.utility.Vector3dVector(tgt_points)\n",
    "\n",
    "# Define correspondences as index pairs\n",
    "correspondences = np.array([[0, 0], [1, 1], [2, 2], [3, 3]])\n",
    "correspondences_o3d = o3d.utility.Vector2iVector(correspondences)\n",
    "\n",
    "# Create a TransformationEstimationPointToPoint object\n",
    "estimation = o3d.pipelines.registration.TransformationEstimationPointToPoint()\n",
    "\n",
    "# Compute the rigid transformation matrix\n",
    "transformation_matrix = estimation.compute_transformation(target_pcd, source_pcd, correspondences_o3d)\n",
    "\n",
    "# Print the transformation matrix\n",
    "print(\"Computed Transformation Matrix:\")\n",
    "print(transformation_matrix)"
   ]
  },
  {
   "cell_type": "code",
   "execution_count": null,
   "metadata": {},
   "outputs": [],
   "source": [
    "# Apply transformation to target surface\n",
    "tgt_surface_id = \"191cef90-bcbc-4acb-9318-ae11aa6355d4\"\n",
    "applyTrafoToSurface(4321, tgt_surface_id, transformation_matrix)\n"
   ]
  },
  {
   "cell_type": "code",
   "execution_count": null,
   "metadata": {},
   "outputs": [],
   "source": [
    "cut_annotation_id = \"4c2224dd-96d8-4921-824b-f82f2c1e3812\"\n",
    "url = \"http://localhost:4321/api/queries/queryAnnotationAsObj\"\n",
    "\n",
    "# retrieve the cutout geometry\n",
    "payload = {\n",
    "    \"annotationId\": cut_annotation_id, \n",
    "    \"queryAttributes\":[], \n",
    "    \"distanceToPlane\": 100000.0,\n",
    "    \"outputReferenceFrame\": \"global\",\n",
    "    \"outputGeometryType\": \"mesh\"\n",
    "}\n",
    "print(payload)\n",
    "response = requests.post(url, json=payload)\n",
    "response.raise_for_status() \n",
    "filename = \"./coutout.obj\"\n",
    "file = open(filename, \"w\")\n",
    "file.write(response.text)\n",
    "file.close()"
   ]
  },
  {
   "cell_type": "code",
   "execution_count": null,
   "metadata": {},
   "outputs": [],
   "source": [
    "# ICP fine registration\n",
    "\n",
    "# Load the SRC and TGT meshes\n",
    "src_mesh = o3d.io.read_triangle_mesh(filename)\n",
    "tgt_mesh = o3d.io.read_triangle_mesh(\"G:\\PRo3D\\AI-Mars-3D\\Co-Registration\\packageGP\\m2020-zcam-kodiak\\source\\model_4b_kodiak_100m_zcam_scam.obj\")\n",
    "\n",
    "# Convert meshes to point clouds for registration\n",
    "src_pcd = src_mesh.sample_points_uniformly(number_of_points=100000)\n",
    "tgt_pcd = tgt_mesh.sample_points_uniformly(number_of_points=100000)\n",
    "\n",
    "# Compute normals for both point clouds\n",
    "# src_pcd.estimate_normals(search_param=o3d.geometry.KDTreeSearchParamHybrid(radius=0.1, max_nn=30))\n",
    "# tgt_pcd.estimate_normals(search_param=o3d.geometry.KDTreeSearchParamHybrid(radius=0.1, max_nn=30))\n",
    "\n",
    "# Define the pre-alignment (Helmert transformation)\n",
    "pre_alignment = transformation_matrix\n",
    "\n",
    "# Apply the pre-alignment transformation to the TGT point cloud\n",
    "tgt_pcd.transform(pre_alignment)\n",
    "\n",
    "writePcdObj(\"src_pcd.obj\", src_pcd)\n",
    "writePcdObj(\"tgt_pcd.obj\", tgt_pcd)\n",
    "\n",
    "openFileInMeshlab(\"src_pcd.obj\")\n",
    "openFileInMeshlab(\"tgt_pcd.obj\")\n",
    "\n",
    "# Perform fine registration using ICP\n",
    "icp_result = o3d.pipelines.registration.registration_icp(\n",
    "    tgt_pcd, src_pcd, max_correspondence_distance=0.1,\n",
    "    init=np.eye(4),\n",
    "    estimation_method=o3d.pipelines.registration.TransformationEstimationPointToPlane()\n",
    ")\n",
    "\n",
    "# Print the transformation matrices\n",
    "print(\"Pre-Alignment (Helmert) Transformation:\")\n",
    "print(pre_alignment)\n",
    "\n",
    "print(\"\\nICP Refinement Transformation:\")\n",
    "print(icp_result.transformation)"
   ]
  },
  {
   "cell_type": "code",
   "execution_count": null,
   "metadata": {},
   "outputs": [],
   "source": [
    "# Apply final trafo to target surface\n",
    "tgt_surface_id = \"191cef90-bcbc-4acb-9318-ae11aa6355d4\"\n",
    "\n",
    "url = f\"http://localhost:4321/api/surfaces/{tgt_surface_id}/transform\"\n",
    "\n",
    "payload = {\n",
    "    \"forward\": icp_result.transformation.tolist()\n",
    "}\n",
    "\n",
    "headers = {\n",
    "    \"Content-Type\": \"application/json\"\n",
    "}\n",
    "\n",
    "response = requests.post(url, json=payload, headers=headers)\n",
    "response.raise_for_status() \n",
    "print(response.text)"
   ]
  }
 ],
 "metadata": {
  "kernelspec": {
   "display_name": "PRo3D_coreg",
   "language": "python",
   "name": "python3"
  },
  "language_info": {
   "codemirror_mode": {
    "name": "ipython",
    "version": 3
   },
   "file_extension": ".py",
   "mimetype": "text/x-python",
   "name": "python",
   "nbconvert_exporter": "python",
   "pygments_lexer": "ipython3",
   "version": "3.12.9"
  },
  "orig_nbformat": 4
 },
 "nbformat": 4,
 "nbformat_minor": 2
}
