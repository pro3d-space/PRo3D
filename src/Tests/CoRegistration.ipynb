{
 "cells": [
  {
   "cell_type": "code",
   "execution_count": 9,
   "metadata": {},
   "outputs": [
    {
     "name": "stdout",
     "output_type": "stream",
     "text": [
      "3d87d707-5735-4d7d-a401-679ae2a748b5\n"
     ]
    }
   ],
   "source": [
    "# imports\n",
    "import requests\n",
    "import json\n",
    "\n",
    "import open3d as o3d\n",
    "import numpy as np\n",
    "\n",
    "# get the id of the first annotation\n",
    "url = \"http://localhost:4322/api/queries/findAnnotation\"\n",
    "response = requests.get(url)\n",
    "id = json.loads(response.text)[0]\n",
    "print(id)"
   ]
  },
  {
   "cell_type": "code",
   "execution_count": 10,
   "metadata": {},
   "outputs": [],
   "source": [
    "tgt_points_id = \"3d87d707-5735-4d7d-a401-679ae2a748b5\"\n",
    "src_points_id = \"4b854809-1601-4e7e-aa78-85aa19fa43d3\""
   ]
  },
  {
   "cell_type": "code",
   "execution_count": 13,
   "metadata": {},
   "outputs": [
    {
     "name": "stdout",
     "output_type": "stream",
     "text": [
      "points: [[137.15062074 -56.11408989 -29.09428223]\n",
      " [108.25235213 -46.44734016 -27.29873521]\n",
      " [ 72.28858124 -58.32665047 -23.85722113]\n",
      " [  4.47920139 -91.81704426 -42.33971145]]\n",
      "points: [[ 701757.85653848 3142014.52990013 1073527.84141308]\n",
      " [ 701746.07743941 3142024.38444733 1073498.90227216]\n",
      " [ 701763.76885274 3142030.26883148 1073463.93951211]\n",
      " [ 701813.23370933 3142061.36943788 1073394.22420414]]\n"
     ]
    }
   ],
   "source": [
    "# Define the URL and query parameters\n",
    "url = \"http://localhost:4322/api/annotations/3d87d707-5735-4d7d-a401-679ae2a748b5/points\"\n",
    "\n",
    "# Send a GET request to the Suave endpoint\n",
    "response = requests.get(url)\n",
    "tgt_points = np.array(json.loads(response.text))\n",
    "\n",
    "print(f\"points: {tgt_points}\")\n",
    "\n",
    "# Define the URL and query parameters\n",
    "url = \"http://localhost:4321/api/annotations/4b854809-1601-4e7e-aa78-85aa19fa43d3/points\"\n",
    "\n",
    "# Send a GET request to the Suave endpoint\n",
    "response = requests.get(url)\n",
    "src_points = np.array(json.loads(response.text))\n",
    "\n",
    "print(f\"points: {src_points}\")\n"
   ]
  },
  {
   "cell_type": "code",
   "execution_count": 14,
   "metadata": {},
   "outputs": [],
   "source": [
    "# Convert numpy arrays to Open3D PointClouds\n",
    "source_pcd = o3d.geometry.PointCloud()\n",
    "source_pcd.points = o3d.utility.Vector3dVector(src_points)\n",
    "\n",
    "target_pcd = o3d.geometry.PointCloud()\n",
    "target_pcd.points = o3d.utility.Vector3dVector(tgt_points)"
   ]
  },
  {
   "cell_type": "code",
   "execution_count": 19,
   "metadata": {},
   "outputs": [
    {
     "name": "stdout",
     "output_type": "stream",
     "text": [
      "Computed Transformation Matrix:\n",
      "[[-9.55238971e-02 -3.07990171e-01  9.46581872e-01  1.87031379e+04]\n",
      " [-9.57203477e-01  2.89405582e-01 -2.43162464e-03 -2.35037772e+05]\n",
      " [-2.73197160e-01 -9.06303737e-01 -3.22454412e-01  3.38547244e+06]\n",
      " [ 0.00000000e+00  0.00000000e+00  0.00000000e+00  1.00000000e+00]]\n"
     ]
    }
   ],
   "source": [
    "# Define correspondences as index pairs\n",
    "correspondences = np.array([[0, 0], [1, 1], [2, 2], [3, 3]])\n",
    "\n",
    "correspondences_o3d = o3d.utility.Vector2iVector(correspondences)\n",
    "\n",
    "# Create a TransformationEstimationPointToPoint object\n",
    "estimation = o3d.pipelines.registration.TransformationEstimationPointToPoint()\n",
    "\n",
    "# Compute the rigid transformation matrix\n",
    "transformation_matrix = estimation.compute_transformation(target_pcd, source_pcd, correspondences_o3d)\n",
    "\n",
    "# Print the transformation matrix\n",
    "print(\"Computed Transformation Matrix:\")\n",
    "print(transformation_matrix)"
   ]
  },
  {
   "cell_type": "code",
   "execution_count": null,
   "metadata": {},
   "outputs": [],
   "source": [
    "# GREETING TEST\n",
    "\n",
    "# Define the URL and query parameters\n",
    "url = \"http://localhost:4322/api/exp/greet/Orti\"\n",
    "url = \"http://localhost:4322/api/exp/greet\"\n",
    "params = {\"name\": \"Orti\"}\n",
    "\n",
    "# Send a GET request to the Suave endpoint\n",
    "response = requests.get(url, params=params)\n",
    "\n",
    "# Check the response\n",
    "if response.status_code == 200:\n",
    "    print(f\"Response: {response.text}\")\n",
    "else:\n",
    "    print(f\"Error: {response.status_code}, Message: {response.text}\")"
   ]
  },
  {
   "cell_type": "code",
   "execution_count": null,
   "metadata": {},
   "outputs": [],
   "source": [
    "url = \"http://localhost:4321/api/queries/queryAnnotationAsObj\"\n",
    "payload = {\n",
    "    \"annotationId\": id, \n",
    "    \"queryAttributes\":[], \n",
    "    \"distanceToPlane\": 100000.0,\n",
    "    \"outputReferenceFrame\": \"global\",\n",
    "    \"outputGeometryType\": \"mesh\"\n",
    "}\n",
    "print(payload)\n",
    "response = requests.post(url, json=payload)\n",
    "response.raise_for_status() \n",
    "filename = \"./6952.obj\"\n",
    "file = open(filename, \"w\")\n",
    "file.write(response.text)\n",
    "file.close()"
   ]
  }
 ],
 "metadata": {
  "kernelspec": {
   "display_name": "open3d_env",
   "language": "python",
   "name": "python3"
  },
  "language_info": {
   "codemirror_mode": {
    "name": "ipython",
    "version": 3
   },
   "file_extension": ".py",
   "mimetype": "text/x-python",
   "name": "python",
   "nbconvert_exporter": "python",
   "pygments_lexer": "ipython3",
   "version": "3.9.21"
  },
  "orig_nbformat": 4
 },
 "nbformat": 4,
 "nbformat_minor": 2
}
