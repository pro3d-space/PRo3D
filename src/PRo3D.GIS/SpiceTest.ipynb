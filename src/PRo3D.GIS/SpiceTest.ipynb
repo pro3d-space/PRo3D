{
 "cells": [
  {
   "cell_type": "code",
   "execution_count": 1,
   "metadata": {},
   "outputs": [
    {
     "name": "stdout",
     "output_type": "stream",
     "text": [
      "Defaulting to user installation because normal site-packages is not writeable\n",
      "Collecting SpiceyPy\n",
      "  Downloading spiceypy-6.0.0-py3-none-win_amd64.whl.metadata (8.2 kB)\n",
      "Requirement already satisfied: numpy>=1.17.0 in c:\\users\\haral\\appdata\\roaming\\python\\python312\\site-packages (from SpiceyPy) (2.2.2)\n",
      "Downloading spiceypy-6.0.0-py3-none-win_amd64.whl (1.4 MB)\n",
      "   ---------------------------------------- 0.0/1.4 MB ? eta -:--:--\n",
      "   ---------------------------------------- 1.4/1.4 MB 25.3 MB/s eta 0:00:00\n",
      "Installing collected packages: SpiceyPy\n",
      "Successfully installed SpiceyPy-6.0.0\n"
     ]
    },
    {
     "name": "stderr",
     "output_type": "stream",
     "text": [
      "\n",
      "[notice] A new release of pip is available: 24.2 -> 25.0.1\n",
      "[notice] To update, run: python.exe -m pip install --upgrade pip\n"
     ]
    }
   ],
   "source": [
    "!pip install SpiceyPy "
   ]
  },
  {
   "cell_type": "code",
   "execution_count": 14,
   "metadata": {},
   "outputs": [
    {
     "name": "stdout",
     "output_type": "stream",
     "text": [
      "X: 694585.2441201475 meters\n",
      "Y: 3137995.7383672507 meters\n",
      "Z: 1097561.2059195277 meters\n"
     ]
    }
   ],
   "source": [
    "import spiceypy as spice\n",
    "import numpy as np\n",
    "import os\n",
    "\n",
    "# Load the SPICE kernel\n",
    "# Set the current directory to where your kernels are located\n",
    "os.chdir(r\"C:\\Users\\haral\\Desktop\\pro3d\\PRo3D.SPICE\\spice_kernels\\kernels\\mk\")\n",
    "\n",
    "kernel_path = r\"C:\\Users\\haral\\Desktop\\pro3d\\PRo3D.SPICE\\spice_kernels\\kernels\\mk\\hera_ops.tm\"\n",
    "\n",
    "spice.furnsh(kernel_path)\n",
    "\n",
    "\n",
    "# Example coordinates (latitude, longitude, altitude)\n",
    "lat = 18.855  # degrees\n",
    "lon = 77.519  # degrees\n",
    "alt = 0.0  # meters\n",
    "\n",
    "# Convert degrees to radians\n",
    "lat_rad = np.deg2rad(lat)\n",
    "lon_rad = np.deg2rad(lon)\n",
    "\n",
    "# Mars equatorial radius and flattening factor\n",
    "mars_radius = 3396190.0  # meters\n",
    "flattening = 0.00589\n",
    "\n",
    "# Convert lat, lon, alt to XYZ\n",
    "r = mars_radius + alt\n",
    "x, y, z = spice.latrec(r, lon_rad, lat_rad)\n",
    "\n",
    "print(f\"X: {x} meters\")\n",
    "print(f\"Y: {y} meters\")\n",
    "print(f\"Z: {z} meters\")"
   ]
  }
 ],
 "metadata": {
  "kernelspec": {
   "display_name": "Python 3",
   "language": "python",
   "name": "python3"
  },
  "language_info": {
   "codemirror_mode": {
    "name": "ipython",
    "version": 3
   },
   "file_extension": ".py",
   "mimetype": "text/x-python",
   "name": "python",
   "nbconvert_exporter": "python",
   "pygments_lexer": "ipython3",
   "version": "3.12.6"
  }
 },
 "nbformat": 4,
 "nbformat_minor": 2
}
